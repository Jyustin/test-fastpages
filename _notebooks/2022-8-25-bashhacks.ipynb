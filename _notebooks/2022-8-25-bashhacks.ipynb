{
 "cells": [
  {
   "cell_type": "markdown",
   "metadata": {},
   "source": [
    "# bash hacks\n",
    "> bashing\n",
    "\n",
    "- toc: true \n",
    "- badges: true\n",
    "- comments: true\n",
    "- categories: [jupyter]"
   ]
  },
  {
   "cell_type": "code",
   "execution_count": 1,
   "metadata": {
    "vscode": {
     "languageId": "shellscript"
    }
   },
   "outputs": [
    {
     "name": "stdout",
     "output_type": "stream",
     "text": [
      "Using conditional statement to create a project directory and project\n",
      "Directory /home/id/thisisabashtest exists.\n",
      "Directory /home/id/thisisabashtest/sympy does not exists... cloning https://github.com/sympy/sympy.git\n",
      "Cloning into 'sympy'...\n",
      "remote: Enumerating objects: 363105, done.\u001b[K\n",
      "remote: Counting objects: 100% (39/39), done.\u001b[K\n",
      "remote: Compressing objects: 100% (33/33), done.\u001b[K\n",
      "remote: Total 363105 (delta 17), reused 12 (delta 6), pack-reused 363066\u001b[K\n",
      "Receiving objects: 100% (363105/363105), 161.52 MiB | 8.65 MiB/s, done.\n",
      "Resolving deltas: 100% (291308/291308), done.\n",
      "Directory /home/id/thisisabashtest/sympy exists.\n"
     ]
    }
   ],
   "source": [
    "echo \"Using conditional statement to create a project directory and project\"\n",
    "\n",
    "# Variable section\n",
    "export project_dir=$HOME/thisisabashtest  # change vscode to different name to test git clone\n",
    "export project=$project_dir/sympy  # change APCSP to name of project from git clone\n",
    "export project_repo=\"https://github.com/sympy/sympy.git\"  # change to project of choice\n",
    "\n",
    "cd ~    # start in home directory\n",
    "\n",
    "# Conditional block to make a project directory\n",
    "if [ ! -d $project_dir ]\n",
    "then \n",
    "    echo \"Directory $project_dir does not exists... makinng directory $project_dir\"\n",
    "    mkdir -p $project_dir\n",
    "fi\n",
    "echo \"Directory $project_dir exists.\" \n",
    "\n",
    "# Conditional block to git clone a project from project_repo\n",
    "if [ ! -d $project ]\n",
    "then\n",
    "    echo \"Directory $project does not exists... cloning $project_repo\"\n",
    "    cd $project_dir\n",
    "    git clone $project_repo\n",
    "    cd ~\n",
    "fi\n",
    "echo \"Directory $project exists.\" "
   ]
  },
  {
   "cell_type": "markdown",
   "metadata": {},
   "source": [
    "Output exceeds the size limit. Open the full output data in a text editor\n",
    "Navigate to project, then navigate to area wwhere files were cloned\n",
    "/home/id/thisisabashtest/sympy\n",
    "\n",
    "list top level or root of files with project pulled from github\n",
    "AUTHORS                   asv.conf.travis.json  github_deploy_key.enc\n",
    "CODEOWNERS                banner.svg            isympy.py\n",
    "CODE_OF_CONDUCT.md        bin                   pytest.ini\n",
    "CONTRIBUTING.md           codecov.yml           release\n",
    "LICENSE                   conftest.py           setup.cfg\n",
    "MANIFEST.in               coveragerc_travis     setup.py\n",
    "PULL_REQUEST_TEMPLATE.md  data                  setupegg.py\n",
    "README.md                 doc                   sympy\n",
    "asv.conf.actions.json     examples\n",
    "\n",
    "list again with hidden files pulled from github\n",
    ".               .travis.yml               asv.conf.travis.json   isympy.py\n",
    "..              AUTHORS                   banner.svg             pytest.ini\n",
    ".ci             CODEOWNERS                bin                    release\n",
    ".circleci       CODE_OF_CONDUCT.md        codecov.yml            setup.cfg\n",
    ".editorconfig   CONTRIBUTING.md           conftest.py            setup.py\n",
    ".git            LICENSE                   coveragerc_travis      setupegg.py\n",
    ".gitattributes  MANIFEST.in               data                   sympy\n",
    ".github         PULL_REQUEST_TEMPLATE.md  doc\n",
    ".gitignore      README.md                 examples\n",
    ".mailmap        asv.conf.actions.json     github_deploy_key.enc\n",
    "...\n",
    "-rw-r--r--  1 id id  2088 Aug 25 16:50 setup.cfg\n",
    "-rwxr-xr-x  1 id id 15142 Aug 25 16:50 setup.py\n",
    "-rw-r--r--  1 id id    49 Aug 25 16:50 setupegg.py\n",
    "drwxr-xr-x 42 id id  4096 Aug 25 16:50 sympy"
   ]
  }
 ],
 "metadata": {
  "kernelspec": {
   "display_name": "Bash",
   "language": "bash",
   "name": "bash"
  },
  "language_info": {
   "codemirror_mode": "shell",
   "file_extension": ".sh",
   "mimetype": "text/x-sh",
   "name": "bash"
  },
  "orig_nbformat": 4,
  "vscode": {
   "interpreter": {
    "hash": "916dbcbb3f70747c44a77c7bcd40155683ae19c65e1c03b4aa3499c5328201f1"
   }
  }
 },
 "nbformat": 4,
 "nbformat_minor": 2
}
