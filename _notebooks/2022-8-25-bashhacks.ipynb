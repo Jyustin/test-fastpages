{
 "cells": [
  {
   "cell_type": "code",
   "execution_count": null,
   "metadata": {
    "vscode": {
     "languageId": "shellscript"
    }
   },
   "outputs": [],
   "source": [
    "# bash hacks\n",
    "> bashing\n",
    "\n",
    "- toc: true \n",
    "- badges: true\n",
    "- comments: true\n",
    "- categories: [jupyter]"
   ]
  },
  {
   "cell_type": "code",
   "execution_count": 3,
   "metadata": {
    "vscode": {
     "languageId": "shellscript"
    }
   },
   "outputs": [
    {
     "name": "stdout",
     "output_type": "stream",
     "text": [
      "Using conditional statement to create a project directory and project\n",
      "Directory /home/id/thisisabashtest does not exists... makinng directory /home/id/thisisabashtest\n",
      "Directory /home/id/thisisabashtest exists.\n",
      "Directory /home/id/thisisabashtest/test2fastpageslol does not exists... cloning https://github.com/Jyustin/test-fastpages\n",
      "Cloning into 'test-fastpages'...\n",
      "remote: Enumerating objects: 1091, done.\u001b[K\n",
      "remote: Counting objects: 100% (984/984), done.\u001b[K\n",
      "remote: Compressing objects: 100% (426/426), done.\u001b[K\n",
      "remote: Total 1091 (delta 453), reused 868 (delta 399), pack-reused 107\u001b[K\n",
      "Receiving objects: 100% (1091/1091), 9.92 MiB | 1.25 MiB/s, done.\n",
      "Resolving deltas: 100% (453/453), done.\n",
      "Directory /home/id/thisisabashtest/test2fastpageslol exists.\n"
     ]
    }
   ],
   "source": [
    "echo \"Using conditional statement to create a project directory and project\"\n",
    "\n",
    "# Variable section\n",
    "export project_dir=$HOME/thisisabashtest  # change vscode to different name to test git clone\n",
    "export project=$project_dir/test2fastpageslol  # change APCSP to name of project from git clone\n",
    "export project_repo=\"https://github.com/Jyustin/test-fastpages\"  # change to project of choice\n",
    "\n",
    "cd ~    # start in home directory\n",
    "\n",
    "# Conditional block to make a project directory\n",
    "if [ ! -d $project_dir ]\n",
    "then \n",
    "    echo \"Directory $project_dir does not exists... makinng directory $project_dir\"\n",
    "    mkdir -p $project_dir\n",
    "fi\n",
    "echo \"Directory $project_dir exists.\" \n",
    "\n",
    "# Conditional block to git clone a project from project_repo\n",
    "if [ ! -d $project ]\n",
    "then\n",
    "    echo \"Directory $project does not exists... cloning $project_repo\"\n",
    "    cd $project_dir\n",
    "    git clone $project_repo\n",
    "    cd ~\n",
    "fi\n",
    "echo \"Directory $project exists.\" "
   ]
  }
 ],
 "metadata": {
  "kernelspec": {
   "display_name": "Bash",
   "language": "bash",
   "name": "bash"
  },
  "language_info": {
   "codemirror_mode": "shell",
   "file_extension": ".sh",
   "mimetype": "text/x-sh",
   "name": "bash"
  },
  "orig_nbformat": 4,
  "vscode": {
   "interpreter": {
    "hash": "916dbcbb3f70747c44a77c7bcd40155683ae19c65e1c03b4aa3499c5328201f1"
   }
  }
 },
 "nbformat": 4,
 "nbformat_minor": 2
}
