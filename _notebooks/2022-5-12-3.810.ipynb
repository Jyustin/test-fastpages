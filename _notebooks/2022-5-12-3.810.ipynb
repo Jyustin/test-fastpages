{
 "cells": [
  {
   "cell_type": "markdown",
   "metadata": {},
   "source": [
    "# 3.8 - 3.10 hacks and notes\n",
    "> for week 3\n",
    "categories: [python]\n",
    "tags: [python]\n",
    "- toc: true \n",
    "- badges: true\n",
    "- comments: true\n",
    "- categories: [3.8]"
   ]
  },
  {
   "cell_type": "markdown",
   "metadata": {},
   "source": [
    "# notes\n",
    "\n",
    "iteration is when something is repeated. usually done using loops. REPEAT N TIMES is pseudocode for this.\n",
    "\n",
    "LISTS: collection of data in a sequence that can be iterated through.\n",
    "\n",
    "EX: fruits = [\"apple\", \"banana\", \"kiwi\", \"pomegranate\"]\n",
    "\n",
    "LISTS ARE MUTABLE. you can add and remove items from a list.\n",
    "\n",
    "Nested Lists: you can store lists inside lists for more complex data. can create sublists with this.\n",
    "\n",
    "can iterate through sublists in list and then iterate through values in those sublists.\n",
    "\n",
    "\n",
    "# Exercise 1\n"
   ]
  },
  {
   "cell_type": "code",
   "execution_count": 30,
   "metadata": {},
   "outputs": [
    {
     "name": "stdout",
     "output_type": "stream",
     "text": [
      "1\n",
      "2\n",
      "3\n",
      "4\n",
      "5\n",
      "[5, 4, 3, 2, 1]\n"
     ]
    }
   ],
   "source": [
    "list = [1, 2, 3, 4, 5] # Print this list in reverse order\n",
    "#list.reverse() also works \n",
    "for i in range(len(list)):\n",
    "    print(i + 1)\n",
    "    a = list.pop() # pop element at the end of list\n",
    "    list.insert(i, a) # add new element with index val of last popped element\n",
    "\n",
    "print(list)"
   ]
  },
  {
   "cell_type": "markdown",
   "metadata": {},
   "source": [
    "# Exercise 2"
   ]
  },
  {
   "cell_type": "code",
   "execution_count": 37,
   "metadata": {},
   "outputs": [
    {
     "name": "stdout",
     "output_type": "stream",
     "text": [
      "[0, 1, 2, 3, 4, 5, 6, 7, 8, 9]\n"
     ]
    }
   ],
   "source": [
    "list = [9, 8, 4, 3, 5, 2, 6, 7, 1, 0] # Sort this array using bubble sort\n",
    "\n",
    "for i in list:\n",
    "    for a in range(len(list) - 1): # for loops look at the first element and the element next to it\n",
    "        if list[a] > list[a + 1]: # if the 1st element is larger than the 2nd one + 1\n",
    "             list[a], list[a + 1] = list[a + 1], list[a] # position of 2 elements are swapped so larger element is in front\n",
    "             # lesser element is in back\n",
    "            \n",
    "\n",
    "\n",
    "# list.sort() also works :/\n",
    "print(list)\n"
   ]
  },
  {
   "cell_type": "markdown",
   "metadata": {},
   "source": [
    "# Quiz reflection\n",
    "\n",
    "#4) How can we add something to the end of a list?\n",
    "\n",
    "(a) Use + sign\n",
    "\n",
    "(b) The word Add\n",
    "\n",
    "(c) Append\n",
    "\n",
    "(d) Extend\n",
    "\n",
    "ANS: Append\n",
    "\n",
    "I picked extend and got the problem wrong because I mixed up the definition of extend with append. extend is for lists and append is for individual elements.\n",
    "\n",
    "#8) What does a WHILE loop do?\n",
    "\n",
    "(a) Iterates over an iterable and for a set amount of time\n",
    "\n",
    "(b) Intuitively takes an iterable and manipulates it over a set period using pointers\n",
    "\n",
    "(c) Loop over a bound interval by comparing to a conditional\n",
    "\n",
    "(d) Crash bitcoin\n",
    "\n",
    "ANS: (C) I got this one wrong because I picked A initially. I forgot that the set amount of time part must be added in. C is the technical definition. A is how WHile loops work.\n",
    "\n",
    "#9) I want to iterate over a list until the user inputs 'quit'. What loop would I use?\n",
    "\n",
    "(a) WHILE loops\n",
    "\n",
    "(b) FOR loops\n",
    "\n",
    "(c) Recursive Loops\n",
    "\n",
    "(d) Paradoxical Loops\n",
    "\n",
    "ANS: B, but I picked A because I was thinking of a while loop and a for loop. I understand why a for loop would be used."
   ]
  }
 ],
 "metadata": {
  "kernelspec": {
   "display_name": "Python 3.8.10 64-bit",
   "language": "python",
   "name": "python3"
  },
  "language_info": {
   "codemirror_mode": {
    "name": "ipython",
    "version": 3
   },
   "file_extension": ".py",
   "mimetype": "text/x-python",
   "name": "python",
   "nbconvert_exporter": "python",
   "pygments_lexer": "ipython3",
   "version": "3.8.10"
  },
  "orig_nbformat": 4,
  "vscode": {
   "interpreter": {
    "hash": "916dbcbb3f70747c44a77c7bcd40155683ae19c65e1c03b4aa3499c5328201f1"
   }
  }
 },
 "nbformat": 4,
 "nbformat_minor": 2
}
