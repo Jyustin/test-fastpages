{
 "cells": [
  {
   "cell_type": "markdown",
   "metadata": {},
   "source": [
    "# 3.9 + 3.11 hacks and notes\n",
    "> for week 3\n",
    "categories: [python]\n",
    "tags: [python]\n",
    "- toc: true \n",
    "- badges: true\n",
    "- comments: true\n",
    "- categories: [3.9]"
   ]
  },
  {
   "cell_type": "markdown",
   "metadata": {},
   "source": [
    "# notes lol\n",
    "\n",
    "selection: decision or question an algorithm may reach, in which case the algorithm now has options.\n",
    "\n",
    "Algorithm: A process or set of rules to be followed in calculations or other problem solving operations.\n",
    "\n",
    "# hacks\n",
    "\n",
    "Q 1: Write this Boolean statement in the form of a conditional (if/else) statement: stayInside⟵((isCold) OR (isRaining))\n",
    "\n",
    "ANS: if stayInside or isRaining:\n",
    "print(\"stay inside\")\n",
    "else: \n",
    "print(\"go outside lol\")\n",
    "\n",
    "Q 2: Create an algorithm that uses selection and/or iteration that will represent one player’s complete turn.\n",
    "\n",
    "During a turn, each player gets 4 attempts/chances to get the greatest number possible.\n",
    "\n",
    "During each attempt, the player will use a random number generator to select a random number from 1 to 10.\n",
    "\n",
    "After they have had 4 chances, their score is the greatest number they received from the random number generator, and their turn is over.\n"
   ]
  },
  {
   "cell_type": "code",
   "execution_count": 29,
   "metadata": {},
   "outputs": [
    {
     "name": "stdout",
     "output_type": "stream",
     "text": [
      "[10, 2, 8, 2]\n",
      "10\n"
     ]
    }
   ],
   "source": [
    "import random\n",
    "\n",
    "score1 = 0\n",
    "a = 0\n",
    "\n",
    "ran = [1, 2, 3, 4, 5, 6, 7, 8, 9, 10]\n",
    "scorels = []\n",
    "while a != 4:\n",
    "    randomnum = (random.choice(ran)) # create random num\n",
    "    scorels.append(randomnum)\n",
    "    a = a + 1\n",
    "\n",
    "finscore = max(scorels) #find final score\n",
    "\n",
    "print(scorels)\n",
    "print(finscore)"
   ]
  },
  {
   "attachments": {},
   "cell_type": "markdown",
   "metadata": {},
   "source": [
    "Q 3: Create an algorithm that will allow the arrow to reach the gray square:\n",
    "\n",
    "Repeat until GOAL REACHED:\n",
    "\n",
    "If CAN_MOVE FORWARD:\n",
    "    \n",
    "    MOVE_FORWARD\n",
    "\n",
    "ELSE:\n",
    "    IF CAN_MOVE RIGHT:\n",
    "\n",
    "    ROTATE_RIGHT\n",
    "\n",
    "    MOVE_FORWARD\n",
    "\n",
    "\n",
    "Q 4: Make a binary search tree of different the list [1,2,3,4,6,9,11,69]\n",
    "\n",
    "![]({{site.baseurl}}/images/118.png)\n",
    "\n",
    "\n",
    "Q 5: Explain thorughly how to find the number 69 in the list above (use key words)\n",
    "\n",
    "ANS: an algorithm can be used to go down the list and compare each element to the number 69. when the number 69 is found, the algorithm would have to msg that the number has been found, with the index 69 was found at. \n",
    "\n",
    "Q6 on diagram\n",
    "\n",
    "Q 7: Put this list of strings in a order that can be used for binary search [“store”,”Market”,”Walmart”,Target”,”Ralphs”]\n",
    "\n",
    "ANS: I'm not sure if this is right but it should be [\"Market\", \"Ralphs\", \"store\",\"Target\", \"Walmart\"] Im pretty sure this works because all of the strings are in alphabetical order.\n",
    "\n",
    "Q 8: Explain why Binary Search is more efficient than Sequential Search\n",
    "\n",
    "ANS: Binary Search looks through more numbers at a time and also only needs to look at far less elements when going through and looking for the element.\n",
    "(I'm not sure if this is right. I'm sure Binary is faster because it starts at middle and goes through more numbers at a time, but then why use iteration?)\n",
    "\n",
    "Q 9: [64,36,16,11,9] Explain which number you are finding, how many check it would take, and make a binary search tree\n",
    "\n",
    "![]({{site.baseurl}}/images/searchtree2.png)\n",
    "\n"
   ]
  }
 ],
 "metadata": {
  "kernelspec": {
   "display_name": "Python 3.8.10 64-bit",
   "language": "python",
   "name": "python3"
  },
  "language_info": {
   "codemirror_mode": {
    "name": "ipython",
    "version": 3
   },
   "file_extension": ".py",
   "mimetype": "text/x-python",
   "name": "python",
   "nbconvert_exporter": "python",
   "pygments_lexer": "ipython3",
   "version": "3.8.10"
  },
  "orig_nbformat": 4,
  "vscode": {
   "interpreter": {
    "hash": "916dbcbb3f70747c44a77c7bcd40155683ae19c65e1c03b4aa3499c5328201f1"
   }
  }
 },
 "nbformat": 4,
 "nbformat_minor": 2
}
