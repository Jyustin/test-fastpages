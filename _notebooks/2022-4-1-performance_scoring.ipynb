{
 "cells": [
  {
   "attachments": {},
   "cell_type": "markdown",
   "metadata": {},
   "source": [
    "# performance task example scoring\n",
    "> help develop good performance task\n",
    "categories: [python]\n",
    "tags: [python]\n",
    "- toc: true \n",
    "- badges: true\n",
    "- comments: true\n",
    "- categories: [performance_task]"
   ]
  },
  {
   "attachments": {},
   "cell_type": "markdown",
   "metadata": {},
   "source": [
    "# program 1\n",
    "\n",
    "| Reporting Category           | Student Score | College Board Score | Comments                                                                                                                                                                                                                    |\n",
    "|------------------------------|---------------|---------------------|-----------------------------------------------------------------------------------------------------------------------------------------------------------------------------------------------------------------------------|\n",
    "| Program Purpose and Function | 1             | 0                   | the video does demonstrate program input and program output. the purpose of the program does align with what is demonstrated in the video. I can tell what the purpose  of this program is from the response and the video. |\n",
    "| data abstraction             | 1             | 1                   | 2 program code segments exist. these code segments do help show how lists and data is being stored and used for this program. lastly, the list is more than 1 element and the list is needed for this program.              |\n",
    "| Managing complexity          | 0             | 0                   | although code segments are available, there is no explanation for why a list is needed  for this program to exist and therefore no point shall be awarded.                                                                  |\n",
    "| procedural abstraction       | 1             | 1                   | the procedure is student developed and the parameters are explicitly listed, and there is an explanation for how this procedure relates to the program, all requirements are met.                                           |\n",
    "| algorithm implementation     | 0             | 1                   | the algorithm is thoroughly explained and I could recreate it from the description, but I  don't feel like how the algorithm is implemented in the whole program as a whole is not thoroughly described.                    |\n",
    "| testing                      | 1             | 1                   | the program is testred with different parameters and the outputs are different and look correct.                                                                                                                            |"
   ]
  },
  {
   "attachments": {},
   "cell_type": "markdown",
   "metadata": {},
   "source": [
    "# program 2\n",
    "\n",
    "| Reporting Category           | Student Score | College Board Score | Comments                                                                                                                                                                                                       |\n",
    "|------------------------------|---------------|---------------------|----------------------------------------------------------------------------------------------------------------------------------------------------------------------------------------------------------------|\n",
    "| Program Purpose and Function | 1             | 1                   | the program purpose is described and the video does align with the program.                                                                                                                                    |\n",
    "| data abstraction             | 1             | 1                   | a list is used in the program and an explanation for said list is given.                                                                                                                                       |\n",
    "| Managing complexity          | 1             | 1                   | the named list not only manages complexity but how its managment of complexity is required for the program to run is provided.                                                                                 |\n",
    "| procedural abstraction       | 1             | 1                   | the procedure is explained thoroughly and is student developed. additionally, the parameters for the procedure are designated and named.                                                                       |\n",
    "| algorithm implementation     | 1             | 1                   | iteration, sequencing, and selection are all  explained and used in this algorithm described. the description of the algorithm is thorough and I could easily recreate what has been described in my own code. |\n",
    "| testing                      | 1             | 1                   | testing is done with different parameters and how the  procedures from earlier relate to the testing is explained in this part.                                                                                |"
   ]
  }
 ],
 "metadata": {
  "kernelspec": {
   "display_name": "Python 3",
   "language": "python",
   "name": "python3"
  },
  "language_info": {
   "name": "python",
   "version": "3.8.10"
  },
  "orig_nbformat": 4,
  "vscode": {
   "interpreter": {
    "hash": "916dbcbb3f70747c44a77c7bcd40155683ae19c65e1c03b4aa3499c5328201f1"
   }
  }
 },
 "nbformat": 4,
 "nbformat_minor": 2
}
