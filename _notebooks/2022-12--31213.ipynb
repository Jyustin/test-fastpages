{
 "cells": [
  {
   "cell_type": "markdown",
   "metadata": {},
   "source": [
    "# 3.12 3.13 hacks and notes\n",
    "> for week 3\n",
    "categories: [python]\n",
    "tags: [python]\n",
    "- toc: true \n",
    "- badges: true\n",
    "- comments: true\n",
    "- categories: [3.12]"
   ]
  },
  {
   "cell_type": "markdown",
   "metadata": {},
   "source": [
    "# notes\n",
    "\n",
    "procedure: a named group of programming instructions that may have parameters and return values.\n",
    "\n",
    "Parameters: input values of a procedure.\n",
    "\n",
    "Modularity: the practice of breaking a complex program into smaller, independent parts or modules that can be used and reused in different parts of the program\n",
    "\n",
    "HINT: procedures should be descriptive. also consider what parameters to set and what data is needed for the procedure\n",
    "\n",
    "Note: There are two types of procedures, one that returns a value or some type of data and on that just executes a block of statements. also remember to keep procedures simple.\n",
    "\n",
    "make sure to have multiple different functions in a procedure\n",
    "\n",
    "Think of procedures like functions I guess?\n",
    "\n",
    "# hacks for 3.12\n",
    "\n",
    "Q 1:\n",
    "\n",
    "a -- ? b -- ? c -- 9 PROCEDURE find a () { b <-- 9 9\n",
    "\n",
    "a <-- b c\n",
    "\n",
    "Print (a) } What is a?\n",
    "\n",
    "ANS: a would become 891 since the procedure puts b as 99 then sets a to be b*c which is 891 (i may be wrong)\n",
    "\n",
    "Q 2:\n",
    "\n",
    "cost ⟵ 173 tax - 10% PROCEDURE applytax (cost, cpercentDiscounted){ temp <-- 100 + percentTaxed temp <-- temp / 100 cost <-- cost x temp Print(cost)}\n",
    "\n",
    "What is the cost?\n",
    "\n",
    "ANS: temp = 110/100 so cost = 173 * 1.1 = 190.3 so cost = 190.3\n",
    "\n",
    "# 3.13 Homework/Hacks\n",
    "\n",
    "Q 1: Create a procedure that is meant to replace the top running backs yards per game in one season if the current running back has more yards per game\n",
    "\n",
    "Necessary Parameters: toprbyardspg(100), currentrbyards(1260), totalGames(12)\n",
    "\n",
    "ANS below"
   ]
  },
  {
   "cell_type": "code",
   "execution_count": null,
   "metadata": {},
   "outputs": [],
   "source": [
    "toprbyardspg = 100 \n",
    "currentrbyards = 1260 \n",
    "totalGames = 12\n",
    "\n",
    "procedure topyards(toprbyardspg, currentrbyards, totalGames) {\n",
    "    currentrbyards = 1260 / totalGames\n",
    "    if toprbyardspg < currentrbyards:\n",
    "        currentrbyards = toprbyardspg\n",
    "}"
   ]
  },
  {
   "cell_type": "markdown",
   "metadata": {},
   "source": [
    "#2. Write a procedure that will allow the A+ to get to the 1, while avoiding the black boxes.\n",
    "Use what you learned about moving robots"
   ]
  },
  {
   "cell_type": "code",
   "execution_count": null,
   "metadata": {},
   "outputs": [],
   "source": [
    "#ANS:\n",
    "\n",
    "PROCEDURE toEnd() {\n",
    "    \n",
    "    move_forward()\n",
    "    rotate_left()\n",
    "    move_forward()\n",
    "    move_forward()\n",
    "    rotate_right()\n",
    "    move_forward()\n",
    "    move_forward()\n",
    "    move_forward()\n",
    "    rotate_left()\n",
    "    move_forward()\n",
    "    move_forward()\n",
    "    rotate_left()\n",
    "    move_forward()\n",
    "    move_forward()\n",
    "    rotate_right()\n",
    "    move_forward()\n",
    "    rotate_left()\n",
    "    move_forward()\n",
    "    move_forward()\n",
    "    # using loops and if statements may work but for me it would be harder and \n",
    "    # take more time\n",
    "}"
   ]
  },
  {
   "cell_type": "markdown",
   "metadata": {},
   "source": [
    "Q 3:\n",
    "\n",
    "Which Is the Correct Way to define the Name of a Procedure?\n",
    "\n",
    "A. PROCEDURE MYLIST\n",
    "\n",
    "B. PROCEDURE MyList\n",
    "\n",
    "C. procedure mylist\n",
    "\n",
    "ANS: B because procedure is in caps and it's camel cased.\n",
    "\n",
    "Q 4: \n",
    "\n",
    "Write A Procedure That gets the BeachBall To the Green Square\n"
   ]
  },
  {
   "cell_type": "code",
   "execution_count": null,
   "metadata": {},
   "outputs": [],
   "source": [
    "#ANS\n",
    "\n",
    "PROCEDURE toEnd() {\n",
    "    move_forward()\n",
    "    rotate_left()\n",
    "    move_forward()\n",
    "    rotate_right()\n",
    "    move_forward()\n",
    "    move_forward()\n",
    "    move_forward()\n",
    "    move_forward()\n",
    "    move_forward()\n",
    "    rotate_left()\n",
    "    move_forward()\n",
    "    move_forward()\n",
    "}\n"
   ]
  }
 ],
 "metadata": {
  "kernelspec": {
   "display_name": "Python 3.8.10 64-bit",
   "language": "python",
   "name": "python3"
  },
  "language_info": {
   "name": "python",
   "version": "3.8.10 (default, Jun 22 2022, 20:18:18) \n[GCC 9.4.0]"
  },
  "orig_nbformat": 4,
  "vscode": {
   "interpreter": {
    "hash": "916dbcbb3f70747c44a77c7bcd40155683ae19c65e1c03b4aa3499c5328201f1"
   }
  }
 },
 "nbformat": 4,
 "nbformat_minor": 2
}
