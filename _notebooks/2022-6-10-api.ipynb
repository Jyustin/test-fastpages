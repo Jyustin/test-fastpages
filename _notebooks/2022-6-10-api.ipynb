{
 "cells": [
  {
   "cell_type": "markdown",
   "metadata": {},
   "source": [
    "# apis\n",
    "> hacks for javascript week 5\n",
    "categories: [python]\n",
    "- toc: true \n",
    "- badges: true\n",
    "- comments: true\n",
    "- categories: [js codes]"
   ]
  },
  {
   "cell_type": "code",
   "execution_count": 6,
   "metadata": {},
   "outputs": [
    {
     "name": "stdout",
     "output_type": "stream",
     "text": [
      "{\"data\":{\"translations\":[{\"translatedText\":\"¡Hola Mundo!\"}]}}\n"
     ]
    }
   ],
   "source": [
    "import requests\n",
    "\n",
    "url = \"https://google-translate1.p.rapidapi.com/language/translate/v2\"\n",
    "\n",
    "payload = \"q=Hello%2C%20world!&target=es&source=en\"\n",
    "headers = {\n",
    "\t\"content-type\": \"application/x-www-form-urlencoded\",\n",
    "\t\"Accept-Encoding\": \"application/gzip\",\n",
    "\t\"X-RapidAPI-Key\": \"6a13c0a609mshb8a55b62f42e6d0p15ec9ejsnaf557400ec31\",\n",
    "\t\"X-RapidAPI-Host\": \"google-translate1.p.rapidapi.com\"\n",
    "}\n",
    "\n",
    "response = requests.request(\"POST\", url, data=payload, headers=headers)\n",
    "\n",
    "print(response.text)\n"
   ]
  },
  {
   "cell_type": "code",
   "execution_count": 16,
   "metadata": {},
   "outputs": [
    {
     "name": "stdout",
     "output_type": "stream",
     "text": [
      "Url: https://en.wikipedia.org/wiki/Computer_science. Title: Computer science - Wikipedia.\n",
      "Url: https://debugger.medium.com/tagged/computer-science. Title: Computer Science  Debugger.\n",
      "Url: https://stackoverflow.com/tags/computer-science/info. Title: 'computer-science' tag wiki - Stack Overflow.\n",
      "Url: https://lbre.stanford.edu/event-services/equipment-services/computers. Title: Computers | Land, Buildings & Real Estate.\n",
      "Url: http://explore.appinventor.mit.edu/news/computer-science. Title: Computer Science Education Week: Going Beyond Code | Explore MIT App Inventor.\n",
      "Url: https://www.engr.cornell.edu/programs-departments/computer-science. Title: Computer Science | Cornell Engineering.\n",
      "Url: https://www.cmu.edu/admission/majors-programs/school-of-computer-science/computer-science. Title: Computer Science - Undergraduate Admission - Carnegie Mellon University.\n",
      "Url: http://guide.berkeley.edu/undergraduate/degree-programs/computer-science/. Title: Computer Science < University of California, Berkeley.\n",
      "Url: https://www.energy.ox.ac.uk/departments_and_institutes/computer-science/. Title: Computer Science | Oxford Energy.\n",
      "Url: https://beaver.psu.edu/directory/computer-science. Title: Computer Science Directory | Penn State Beaver.\n"
     ]
    }
   ],
   "source": [
    "import requests\n",
    "\n",
    "URL = \"https://rapidapi.p.rapidapi.com/api/Search/WebSearchAPI\"\n",
    "HEADERS = {\n",
    "    'x-rapidapi-host': \"contextualwebsearch-websearch-v1.p.rapidapi.com\",\n",
    "    'x-rapidapi-key': \"6a13c0a609mshb8a55b62f42e6d0p15ec9ejsnaf557400ec31\"\n",
    "}\n",
    "\n",
    "query = \"computer science\"\n",
    "page_number = 1\n",
    "page_size = 10\n",
    "auto_correct = True\n",
    "safe_search = False\n",
    "\n",
    "querystring = {\"q\": query,\n",
    "               \"pageNumber\": page_number,\n",
    "               \"pageSize\": page_size,\n",
    "               \"autoCorrect\": auto_correct,\n",
    "               \"safeSearch\": safe_search}\n",
    "response = requests.get(URL, headers=HEADERS, params=querystring).json()\n",
    "\n",
    "\n",
    "total_count = response[\"totalCount\"]\n",
    "\n",
    "for web_page in response[\"value\"]:\n",
    "\n",
    "    url = web_page[\"url\"]\n",
    "    title = web_page[\"title\"]\n",
    "    description = web_page[\"description\"]\n",
    "    body = web_page[\"body\"]\n",
    "    date_published = web_page[\"datePublished\"]\n",
    "    language = web_page[\"language\"]\n",
    "    is_safe = web_page[\"isSafe\"]\n",
    "    provider = web_page[\"provider\"][\"name\"]\n",
    "\n",
    "    print(\"Url: {}. Title: {}.\".format(url, title))"
   ]
  }
 ],
 "metadata": {
  "kernelspec": {
   "display_name": "Python 3.8.10 64-bit",
   "language": "python",
   "name": "python3"
  },
  "language_info": {
   "codemirror_mode": {
    "name": "ipython",
    "version": 3
   },
   "file_extension": ".py",
   "mimetype": "text/x-python",
   "name": "python",
   "nbconvert_exporter": "python",
   "pygments_lexer": "ipython3",
   "version": "3.8.10"
  },
  "orig_nbformat": 4,
  "vscode": {
   "interpreter": {
    "hash": "916dbcbb3f70747c44a77c7bcd40155683ae19c65e1c03b4aa3499c5328201f1"
   }
  }
 },
 "nbformat": 4,
 "nbformat_minor": 2
}
