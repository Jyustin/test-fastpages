{
 "cells": [
  {
   "cell_type": "markdown",
   "metadata": {},
   "source": [
    "# apis\n",
    "> hacks for javascript week 5\n",
    "categories: [python]\n",
    "- toc: true \n",
    "- badges: true\n",
    "- comments: true\n",
    "- categories: [js codes]"
   ]
  },
  {
   "cell_type": "code",
   "execution_count": 6,
   "metadata": {},
   "outputs": [
    {
     "name": "stdout",
     "output_type": "stream",
     "text": [
      "{\"data\":{\"translations\":[{\"translatedText\":\"¡Hola Mundo!\"}]}}\n"
     ]
    }
   ],
   "source": [
    "import requests\n",
    "\n",
    "url = \"https://google-translate1.p.rapidapi.com/language/translate/v2\"\n",
    "\n",
    "payload = \"q=Hello%2C%20world!&target=es&source=en\"\n",
    "headers = {\n",
    "\t\"content-type\": \"application/x-www-form-urlencoded\",\n",
    "\t\"Accept-Encoding\": \"application/gzip\",\n",
    "\t\"X-RapidAPI-Key\": \"6a13c0a609mshb8a55b62f42e6d0p15ec9ejsnaf557400ec31\",\n",
    "\t\"X-RapidAPI-Host\": \"google-translate1.p.rapidapi.com\"\n",
    "}\n",
    "\n",
    "response = requests.request(\"POST\", url, data=payload, headers=headers)\n",
    "\n",
    "print(response.text)\n"
   ]
  },
  {
   "cell_type": "code",
   "execution_count": 1,
   "metadata": {},
   "outputs": [
    {
     "name": "stdout",
     "output_type": "stream",
     "text": [
      "Url: https://en.wikipedia.org/wiki/Computer_science. Title: Computer science - Wikipedia.\n",
      "Url: https://elemental.medium.com/tagged/computers. Title: Computers  Elemental.\n",
      "Url: https://stackoverflow.com/tags/computer-science/info. Title: 'computer-science' tag wiki - Stack Overflow.\n",
      "Url: https://lbre.stanford.edu/event-services/equipment-services/computers. Title: Computers | Land, Buildings & Real Estate.\n",
      "Url: http://explore.appinventor.mit.edu/news/computer-science. Title: Computer Science Education Week: Going Beyond Code | Explore MIT App Inventor.\n",
      "Url: https://www.birds.cornell.edu/home/information-science/. Title: Information Science | Birds, Cornell Lab of Ornithology : Birds, Cornell Lab of Ornithology.\n",
      "Url: https://www.cmu.edu/admission/majors-programs/school-of-computer-science/computer-science. Title: Computer Science - Undergraduate Admission - Carnegie Mellon University.\n",
      "Url: http://guide.berkeley.edu/undergraduate/degree-programs/computer-science/. Title: Computer Science < University of California, Berkeley.\n",
      "Url: http://www.uniq.ox.ac.uk/computer-science. Title: Computer Science - UNIQ.\n",
      "Url: https://beaver.psu.edu/directory/computer-science. Title: Computer Science Directory | Penn State Beaver.\n"
     ]
    }
   ],
   "source": [
    "import requests\n",
    "\n",
    "URL = \"https://rapidapi.p.rapidapi.com/api/Search/WebSearchAPI\"\n",
    "HEADERS = {\n",
    "    'x-rapidapi-host': \"contextualwebsearch-websearch-v1.p.rapidapi.com\",\n",
    "    'x-rapidapi-key': \"6a13c0a609mshb8a55b62f42e6d0p15ec9ejsnaf557400ec31\"\n",
    "}\n",
    "\n",
    "query = \"computer science\"\n",
    "page_number = 1\n",
    "page_size = 10\n",
    "auto_correct = True\n",
    "safe_search = False\n",
    "\n",
    "querystring = {\"q\": query,\n",
    "               \"pageNumber\": page_number,\n",
    "               \"pageSize\": page_size,\n",
    "               \"autoCorrect\": auto_correct,\n",
    "               \"safeSearch\": safe_search}\n",
    "response = requests.get(URL, headers=HEADERS, params=querystring).json()\n",
    "\n",
    "\n",
    "total_count = response[\"totalCount\"]\n",
    "\n",
    "for web_page in response[\"value\"]:\n",
    "\n",
    "    url = web_page[\"url\"]\n",
    "    title = web_page[\"title\"]\n",
    "    description = web_page[\"description\"]\n",
    "    body = web_page[\"body\"]\n",
    "    date_published = web_page[\"datePublished\"]\n",
    "    language = web_page[\"language\"]\n",
    "    is_safe = web_page[\"isSafe\"]\n",
    "    provider = web_page[\"provider\"][\"name\"]\n",
    "\n",
    "    print(\"Url: {}. Title: {}.\".format(url, title))"
   ]
  },
  {
   "cell_type": "code",
   "execution_count": null,
   "metadata": {},
   "outputs": [],
   "source": [
    "<py-script>\n",
    "        import requests\n",
    "\n",
    "URL = \"https://rapidapi.p.rapidapi.com/api/Search/WebSearchAPI\"\n",
    "HEADERS = {\n",
    "    'x-rapidapi-host': \"contextualwebsearch-websearch-v1.p.rapidapi.com\",\n",
    "    'x-rapidapi-key': \"6a13c0a609mshb8a55b62f42e6d0p15ec9ejsnaf557400ec31\"\n",
    "}\n",
    "\n",
    "query = \"computer science\"\n",
    "page_number = 1\n",
    "page_size = 10\n",
    "auto_correct = True\n",
    "safe_search = False\n",
    "\n",
    "querystring = {\"q\": query,\n",
    "               \"pageNumber\": page_number,\n",
    "               \"pageSize\": page_size,\n",
    "               \"autoCorrect\": auto_correct,\n",
    "               \"safeSearch\": safe_search}\n",
    "response = requests.get(URL, headers=HEADERS, params=querystring).json()\n",
    "\n",
    "\n",
    "total_count = response[\"totalCount\"]\n",
    "\n",
    "for web_page in response[\"value\"]:\n",
    "\n",
    "    url = web_page[\"url\"]\n",
    "    title = web_page[\"title\"]\n",
    "    description = web_page[\"description\"]\n",
    "    body = web_page[\"body\"]\n",
    "    date_published = web_page[\"datePublished\"]\n",
    "    language = web_page[\"language\"]\n",
    "    is_safe = web_page[\"isSafe\"]\n",
    "    provider = web_page[\"provider\"][\"name\"]\n",
    "\n",
    "    print(\"Url: {}. Title: {}.\".format(url, title))\n",
    "    </py-script>\n",
    "\n",
    "    <div id=\"request_output\"></div>\n",
    "\n",
    "    <py-script>\n",
    "from pyodide.http import pyfetch\n",
    "import asyncio\n",
    "\n",
    "URL = \"https://rapidapi.p.rapidapi.com/api/Search/WebSearchAPI\"\n",
    "HEADERS = {\n",
    "    'x-rapidapi-host': \"contextualwebsearch-websearch-v1.p.rapidapi.com\",\n",
    "    'x-rapidapi-key': \"6a13c0a609mshb8a55b62f42e6d0p15ec9ejsnaf557400ec31\"\n",
    "}\n",
    "query = \"computer science\"\n",
    "page_number = 1\n",
    "page_size = 10\n",
    "auto_correct = True\n",
    "safe_search = False\n",
    "\n",
    "querystring = {\"q\": query,\n",
    "               \"pageNumber\": page_number,\n",
    "               \"pageSize\": page_size,\n",
    "               \"autoCorrect\": auto_correct,\n",
    "               \"safeSearch\": safe_search}\n",
    "\n",
    "response = await pyfetch(url=URL, headers=HEADERS, params=querystring, method=\"GET\")\n",
    "\n",
    "output = f\"GET request=> status:{response.status}, json:{await response.json()}\"\n",
    "\n",
    "pyscript.write('request_output', output)\n",
    "    </py-script>\n",
    "\n",
    "    <py-script>\n",
    "from pyodide.http import pyfetch\n",
    "import asyncio\n",
    "url = \"https://real-time-web-search.p.rapidapi.com/search\"\n",
    "\n",
    "beanbag = {\"q\":\"create an online store\",\"limit\":\"10\"}\n",
    "\n",
    "headers = {\n",
    "\t\"X-RapidAPI-Key\": \"6a13c0a609mshb8a55b62f42e6d0p15ec9ejsnaf557400ec31\",\n",
    "\t\"X-RapidAPI-Host\": \"real-time-web-search.p.rapidapi.com\"\n",
    "}\n",
    "\n",
    "response = await pyfetch(url=\"https://real-time-web-search.p.rapidapi.com/search\", headers=HEADERS, params=beanbag, method=\"GET\")\n",
    "\n",
    "output = f\"GET request=> status:{response.status}, json:{await response.json()}\"\n",
    "\n",
    "pyscript.write('request_output', output)\n",
    "    </py-script>"
   ]
  },
  {
   "cell_type": "code",
   "execution_count": null,
   "metadata": {},
   "outputs": [],
   "source": [
    "            <py-script>\n",
    "from pyodide.http import pyfetch\n",
    "import asyncio\n",
    "response = await pyfetch(url=\"https://www.boredapi.com/api/activity/\", method=\"GET\")\n",
    "\n",
    "output = f\"GET request=> status:{response.status}, json:{await response.json()}\"\n",
    "\n",
    "pyscript.write('request_output', output)\n",
    "    </py-script>"
   ]
  }
 ],
 "metadata": {
  "kernelspec": {
   "display_name": "Python 3.8.10 64-bit",
   "language": "python",
   "name": "python3"
  },
  "language_info": {
   "codemirror_mode": {
    "name": "ipython",
    "version": 3
   },
   "file_extension": ".py",
   "mimetype": "text/x-python",
   "name": "python",
   "nbconvert_exporter": "python",
   "pygments_lexer": "ipython3",
   "version": "3.8.10"
  },
  "orig_nbformat": 4,
  "vscode": {
   "interpreter": {
    "hash": "916dbcbb3f70747c44a77c7bcd40155683ae19c65e1c03b4aa3499c5328201f1"
   }
  }
 },
 "nbformat": 4,
 "nbformat_minor": 2
}
