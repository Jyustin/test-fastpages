{
 "cells": [
  {
   "attachments": {},
   "cell_type": "markdown",
   "metadata": {},
   "source": [
    "# 3.16 hacks and notes\n",
    "> for week 4\n",
    "categories: [python]\n",
    "tags: [python]\n",
    "- toc: true \n",
    "- badges: true\n",
    "- comments: true\n",
    "- categories: [3.16]"
   ]
  },
  {
   "attachments": {},
   "cell_type": "markdown",
   "metadata": {},
   "source": [
    "# notes\n",
    "\n",
    "Simulation: this is a way to simulate a real world enviroment. consider random, biases, and if a simulation is worth it before developing one.\n",
    "\n",
    "HINT: Simulations are useful because they are safe, inexpensive, repeatable, and accurately model how something would be in the real world.\n",
    "\n",
    "HINT: when making a simulation you should consider: Removing details, which could be done using pseudo-random number generators,Using other ideas from previous college board lessons; like procedure, flowcharts and conditionals\n",
    "\n",
    "# hacks\n",
    "\n",
    "|     Question     |                                                           Answer                                                          |\n",
    "|:----------------:|:-------------------------------------------------------------------------------------------------------------------------:|\n",
    "| Name(First+Last) | Justin Nguyen                                                                                                             |\n",
    "| 1                | none                                                                                                                      |\n",
    "| 2                | none                                                                                                                      |\n",
    "| 3                | A ; B and C are true                                                                                                      |\n",
    "| 4                | B ; other aircraft are most important for this type of simulation.  weather + aircraft imperfections are least important. |\n",
    "| 5                | C ; both experiments and simulations need to consider what their purpose is                                               |\n",
    "| 6                | A ; simulating a car crash would cost less and you can't calculate how a car crash would work irl                         |\n",
    "| 7                | A ; an experiment on greenhouse gases would be dangerous to the  enviorment. also would be hard to control.               |\n",
    "| 8                | none                                                                                                                      |\n",
    "| 9                | B ; we are not simulating anything. we are just doing a simple calculation.                                               |\n",
    "\n",
    "# extra "
   ]
  },
  {
   "cell_type": "code",
   "execution_count": 9,
   "metadata": {},
   "outputs": [
    {
     "name": "stdout",
     "output_type": "stream",
     "text": [
      "roll 1 is a  1 !\n",
      "roll 2 is a  5 !\n",
      "roll 3 is a  4 !\n",
      "roll 4 is a  1 !\n",
      "total of dice rolls: 11\n"
     ]
    }
   ],
   "source": [
    "# dice roll simulation\n",
    "import random\n",
    "\n",
    "rolls = 4 # alter to determine amount of dice rolls\n",
    "total = 0\n",
    "\n",
    "i = 0\n",
    "while rolls != 0: # rolls dice for number of rolls\n",
    "    diceroll = random.randint(1,6) # the dice roll. change the \"6\" to how many sides on the dice you want\n",
    "    i = i + 1 \n",
    "    print(\"roll\", i, \"is a \", diceroll, \"!\") \n",
    "    total = total + diceroll\n",
    "    rolls = rolls - 1\n",
    "\n",
    "print(\"total of dice rolls:\", total)"
   ]
  },
  {
   "attachments": {},
   "cell_type": "markdown",
   "metadata": {},
   "source": [
    "This is a dice roll simulation that simulates a 6 sided dice roll. you can determine how many die you want to roll and also see the sum of all die rolled. to modify\n",
    "the amount of sides on the dice, you would just change the last number to whatever amount of sides you want on your dice."
   ]
  }
 ],
 "metadata": {
  "kernelspec": {
   "display_name": "Python 3",
   "language": "python",
   "name": "python3"
  },
  "language_info": {
   "codemirror_mode": {
    "name": "ipython",
    "version": 3
   },
   "file_extension": ".py",
   "mimetype": "text/x-python",
   "name": "python",
   "nbconvert_exporter": "python",
   "pygments_lexer": "ipython3",
   "version": "3.8.10 (default, Jun 22 2022, 20:18:18) \n[GCC 9.4.0]"
  },
  "orig_nbformat": 4,
  "vscode": {
   "interpreter": {
    "hash": "916dbcbb3f70747c44a77c7bcd40155683ae19c65e1c03b4aa3499c5328201f1"
   }
  }
 },
 "nbformat": 4,
 "nbformat_minor": 2
}
