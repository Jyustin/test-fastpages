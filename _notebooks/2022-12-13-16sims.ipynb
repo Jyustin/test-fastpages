{
 "cells": [
  {
   "attachments": {},
   "cell_type": "markdown",
   "metadata": {},
   "source": [
    "# 3.16 hacks and notes\n",
    "> for week 4\n",
    "categories: [python]\n",
    "tags: [python]\n",
    "- toc: true \n",
    "- badges: true\n",
    "- comments: true\n",
    "- categories: [3.16]"
   ]
  },
  {
   "attachments": {},
   "cell_type": "markdown",
   "metadata": {},
   "source": [
    "# notes\n",
    "\n",
    "Simulation: this is a way to simulate a real world enviroment. consider random, biases, and if a simulation is worth it before developing one.\n",
    "\n",
    "HINT: Simulations are useful because they are safe, inexpensive, repeatable, and accurately model how something would be in the real world.\n",
    "\n",
    "HINT: when making a simulation you should consider: Removing details, which could be done using pseudo-random number generators,Using other ideas from previous college board lessons; like procedure, flowcharts and conditionals\n",
    "\n"
   ]
  }
 ],
 "metadata": {
  "kernelspec": {
   "display_name": "Python 3",
   "language": "python",
   "name": "python3"
  },
  "language_info": {
   "name": "python",
   "version": "3.8.10 (default, Jun 22 2022, 20:18:18) \n[GCC 9.4.0]"
  },
  "orig_nbformat": 4,
  "vscode": {
   "interpreter": {
    "hash": "916dbcbb3f70747c44a77c7bcd40155683ae19c65e1c03b4aa3499c5328201f1"
   }
  }
 },
 "nbformat": 4,
 "nbformat_minor": 2
}
