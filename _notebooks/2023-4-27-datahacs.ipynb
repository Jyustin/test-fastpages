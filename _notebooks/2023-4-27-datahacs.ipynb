{
 "cells": [
  {
   "attachments": {},
   "cell_type": "markdown",
   "metadata": {},
   "source": [
    "# data hacks\n",
    "> plz work\n",
    "- toc: true\n",
    "- comments: true\n",
    "- badges: false\n",
    "- categories: [student]\n",
    "- type: ap\n",
    "- week: 31"
   ]
  },
  {
   "attachments": {},
   "cell_type": "markdown",
   "metadata": {},
   "source": [
    "# data analysis hacks\n",
    "\n",
    "How can Numpy and Pandas be used to preprocess data for predictive analysis?\n",
    "\n",
    "ANS: By using Numpy, you can \n",
    "\n",
    "What machine learning algorithms can be used for predictive analysis, and how do they differ?\n",
    "\n",
    "ANS: \n",
    "\n",
    "Can you discuss some real-world applications of predictive analysis in different industries?\n",
    "\n",
    "ANS:\n",
    "\n",
    "Can you explain the role of feature engineering in predictive analysis, and how it can improve model accuracy?\n",
    "\n",
    "ANS:\n",
    "\n",
    "How can machine learning models be deployed in real-time applications for predictive analysis?\n",
    "\n",
    "ANS:\n",
    "\n",
    "Can you discuss some limitations of Numpy and Pandas, and when it might be necessary to use other data analysis tools?\n",
    "\n",
    "ANS\n",
    "\n",
    "How can predictive analysis be used to improve decision-making and optimize business processes?\n",
    "\n",
    "Make your own preditive analysis code with a made up or real world scenario to predict an outcome!!"
   ]
  },
  {
   "attachments": {},
   "cell_type": "markdown",
   "metadata": {},
   "source": [
    "# pandas hacks\n",
    "\n"
   ]
  }
 ],
 "metadata": {
  "language_info": {
   "name": "python"
  },
  "orig_nbformat": 4
 },
 "nbformat": 4,
 "nbformat_minor": 2
}
