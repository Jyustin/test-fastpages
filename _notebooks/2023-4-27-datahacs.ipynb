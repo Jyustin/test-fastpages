{
 "cells": [
  {
   "attachments": {},
   "cell_type": "markdown",
   "metadata": {},
   "source": [
    "# data hacks\n",
    "> plz work\n",
    "- toc: true\n",
    "- comments: true\n",
    "- badges: false\n",
    "- categories: [student]\n",
    "- type: ap\n",
    "- week: 31"
   ]
  },
  {
   "attachments": {},
   "cell_type": "markdown",
   "metadata": {},
   "source": [
    "# data analysis hacks\n",
    "\n",
    "How can Numpy and Pandas be used to preprocess data for predictive analysis?\n",
    "\n",
    "ANS: By using pandas, we can organize our data in neat data structures for sorting and processing, then we can use numpy for its specific math functions to\n",
    "be used for the actual predictive data analysis.\n",
    "\n",
    "What machine learning algorithms can be used for predictive analysis, and how do they differ?\n",
    "\n",
    "ANS: I looked up some and found 2 examples: linear regression and k-means clustering. linear regression differs in that it simply just finds the line of best fit, so it would be \n",
    "good for information like age or simple numbers. k-means clustering finds this average by using clusters of data, not by determining a line of best fit. \n",
    "\n",
    "Can you discuss some real-world applications of predictive analysis in different industries?\n",
    "\n",
    "ANS: An example of this would be using predictive analysis to predict how many covid cases a certain country will gain per day, to determine the best\n",
    "course of action to take. Another example would be predicting weather patterns or climate change patterns to make well informed decisions in the matter.\n",
    "\n",
    "Can you explain the role of feature engineering in predictive analysis, and how it can improve model accuracy?\n",
    "\n",
    "ANS: Feature enginnering is used in predictive analysis to improve upon it's design and help it make better decisions. with Feature engineering, we can design\n",
    "specific features or tools like APIS or deployments to run these in real time to improve upon their designs.\n",
    "\n",
    "How can machine learning models be deployed in real-time applications for predictive analysis?\n",
    "\n",
    "ANS: We can use AWS or other methods of deployment to set up our models, or we can set it up in a shell and run it with a standard language like python and such.\n",
    "\n",
    "Can you discuss some limitations of Numpy and Pandas, and when it might be necessary to use other data analysis tools?\n",
    "\n",
    "ANS: Pandas and Numpy are both limited by their language, meaning we couldn't benefit from other languages and their potential gains in data analysis. Still, these\n",
    "tools are pretty simple to use and are good for basic machine learning algorithms.\n",
    "\n",
    "How can predictive analysis be used to improve decision-making and optimize business processes?\n",
    "\n",
    "ANS: with predictive analysis, we can predict things like what items to stock in a store, what are the trending items, or what items were least purchased. \n",
    "We basically use this to make decisions based on previous data, that would be hard to deduce without algorithms.\n"
   ]
  },
  {
   "attachments": {},
   "cell_type": "markdown",
   "metadata": {},
   "source": [
    "# pandas hacks\n",
    "\n",
    "## Questions\n",
    "\n",
    "1. What are the two primary data structures in pandas and how do they differ?\n",
    "\n",
    "ANS: the 2 primary data structures in pandas are CSV files and databases. For example, you can use pandas to sort through a csv file with a bunch of data, or you can even \n",
    "sort through an Sqlite database and sort out the data there.\n",
    "\n",
    "2. How do you read a CSV file into a pandas DataFrame?\n",
    "\n",
    "ANS: you will first need to use pd.read_csv() which will allow you to read a csv file and do things like print it out or organize it in a graph.\n",
    "\n",
    "3. How do you select a single column from a pandas DataFrame?\n",
    "\n",
    "ANS: just print the csv file, but make sure to use a bracket after it with the specific column you wanted to print out.\n",
    "\n",
    "4. How do you filter rows in a pandas DataFrame based on a condition?\n",
    "\n",
    "ANS: just take the csv and print it out, however make sure that you specify after the csv what condition you are using. for example, using groupby after your csv would\n",
    "allow you to group by a certain value or something, just make sure to specify what.\n",
    "\n",
    "5. How do you group rows in a pandas DataFrame by a particular column?\n",
    "\n",
    "ANS: you can use groupby() to group rows by a particular column, like grouping the users in a csv file by their age. \n",
    "\n",
    "6. How do you aggregate data in a pandas DataFrame using functions like sum and mean?\n",
    "\n",
    "ANS: after using groupby() to get a specific set of data, you can then use functions like sum to find the sum of your group. for example, you can use df.agg['sum'] to find the sum of rows in our dataset.\n",
    "\n",
    "7. How do you handle missing values in a pandas DataFrame?\n",
    "\n",
    "ANS: there are a couple of things you could do. You could try using .isnull() to tell you which values dont exist, then you can go in and deal with them with a number of ways. You can then go to that specific index of the CSV and set it to NaN, which will render it as a value that is no longer taken into account. (basically null)\n",
    "\n",
    "8. How do you merge two pandas DataFrames together?\n",
    "\n",
    "we can use .concat() to merge 2 panda dataframes or csvs together. If the columns are not matching, the new columns will be added in the new database. if we are combining a column a and a column b, the 2 will be next 2 each other in the final dataframe. \n",
    "\n",
    "9. How do you export a pandas DataFrame to a CSV file?\n",
    "\n",
    "ANS: the easiest way is by using .to_csv(), which will easily convert it to a csv file. \n",
    "\n",
    "10. What is the difference between a Series and a DataFrame in Pandas?\n",
    "\n",
    "ANS: a series is a 1 dimensional data structure, capable of storing any data. However, it will be unorganized since it is just 1 dimensional. A dataframe would be basically a framework for the series, putting them into neat columns for easier viewing and overall a better way to store data. It is also 2 dimensional compared to the 1 dimensional series.\n",
    "\n",
    "# PANDAS CODE HACKS"
   ]
  },
  {
   "cell_type": "code",
   "execution_count": 40,
   "metadata": {},
   "outputs": [
    {
     "data": {
      "image/png": "[encoded data removed]",
      "text/plain": [
       "<Figure size 432x288 with 1 Axes>"
      ]
     },
     "metadata": {
      "needs_background": "light"
     },
     "output_type": "display_data"
    },
    {
     "name": "stdout",
     "output_type": "stream",
     "text": [
      "19041    Counter-Strike: Global Offensive\n",
      "19489                 PUBG: BATTLEGROUNDS\n",
      "8746                               Dota 2\n",
      "5347                   Grand Theft Auto V\n",
      "19473     Tom Clancy's Rainbow Six® Siege\n",
      "                       ...               \n",
      "28943              SCP: Secret Laboratory\n",
      "2505                       Risk of Rain 2\n",
      "17538                  Deep Rock Galactic\n",
      "3003                         BeamNG.drive\n",
      "3596                         DOOM Eternal\n",
      "Name: title, Length: 75, dtype: object\n",
      "   number1  number2  Unnamed: 2\n",
      "0        1        2         NaN\n"
     ]
    }
   ],
   "source": [
    "import pandas as pd\n",
    "import matplotlib.pyplot as plt\n",
    "import numpy as np\n",
    "\n",
    "# read the CSV file\n",
    "df = pd.read_csv('files/games.csv').sort_values(by=['user_reviews'], ascending=False)\n",
    "\n",
    "da = pd.read_csv('files/dataforapcsp.csv')\n",
    "y = df.head(75)\n",
    "\n",
    "price = y\n",
    "\n",
    "price.plot(kind='scatter', x = 'positive_ratio', y = 'price_final')\n",
    "\n",
    "# set the title and axis labels\n",
    "\n",
    "plt.title(\"positive ratio of steam game reviews and prices\")\n",
    "\n",
    "# show the chart\n",
    "plt.show()\n",
    "print(y['title'])\n",
    "\n",
    "print(da) # tried making my own dataset, wasn't that successful"
   ]
  }
 ],
 "metadata": {
  "kernelspec": {
   "display_name": "base",
   "language": "python",
   "name": "python3"
  },
  "language_info": {
   "codemirror_mode": {
    "name": "ipython",
    "version": 3
   },
   "file_extension": ".py",
   "mimetype": "text/x-python",
   "name": "python",
   "nbconvert_exporter": "python",
   "pygments_lexer": "ipython3",
   "version": "3.9.12"
  },
  "orig_nbformat": 4
 },
 "nbformat": 4,
 "nbformat_minor": 2
}
