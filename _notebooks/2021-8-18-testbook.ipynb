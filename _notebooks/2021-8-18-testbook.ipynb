{
 "cells": [
  {
   "cell_type": "markdown",
   "id": "92b9a88e",
   "metadata": {},
   "source": [
    "#Jupyternotebooks"
   ]
  },
  {
   "cell_type": "markdown",
   "id": "6d9f9334",
   "metadata": {},
   "source": [
    "###jupyter notebooks test blog"
   ]
  },
  {
   "cell_type": "code",
   "execution_count": 3,
   "id": "c7807956",
   "metadata": {},
   "outputs": [
    {
     "name": "stdout",
     "output_type": "stream",
     "text": [
      "hello world\n"
     ]
    }
   ],
   "source": [
    "print(\"hello world\")"
   ]
  }
 ],
 "metadata": {
  "kernelspec": {
   "display_name": "Python 3 (ipykernel)",
   "language": "python",
   "name": "python3"
  },
  "language_info": {
   "codemirror_mode": {
    "name": "ipython",
    "version": 3
   },
   "file_extension": ".py",
   "mimetype": "text/x-python",
   "name": "python",
   "nbconvert_exporter": "python",
   "pygments_lexer": "ipython3",
   "version": "3.9.12"
  }
 },
 "nbformat": 4,
 "nbformat_minor": 5
}
