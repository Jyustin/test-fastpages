{
 "cells": [
  {
   "attachments": {},
   "cell_type": "markdown",
   "metadata": {},
   "source": [
    "# havs\n",
    "> no\n",
    "- toc: true\n",
    "- comments: true\n",
    "- badges: false\n",
    "- categories: [student]\n",
    "- type: ap\n",
    "- week: 31"
   ]
  },
  {
   "attachments": {},
   "cell_type": "markdown",
   "metadata": {},
   "source": [
    "# binary numbers hacks\n",
    "\n",
    "Question: How do you think we should find the difference of two binary numbers? The product? The quotient? What rules need to be followed for those operations? Look into all of this on the Internet and note down important information you find.\n",
    "\n",
    "ANSWER: We can find the difference of 2 binary numbers by setting them up where the each of the bit places are corresponding with each other, then subtract so that each place is subtracted with its place in the 2nd number. for example, 111 - 110 would be 001, or 1 in decimal. for a product, we do the same thing in that we line up all of the bit places and multiply by each place. multiplying 101 and 001 would just be 101. The best way for finding the quotient of 2 binary numbers would just be to convert to decimal and divide, then convert back to binary, as any other way would be needlessly complicated.\n",
    "\n",
    "!: you can actually do any form of operations for any 2 binary numbers just by converting to decimal, performing the operation, then converting back to binary. \n",
    "\n",
    "However, remember addition, subtraction, and multiplication can be done by doing each of those operations for each bit in the number, with it's corresponding bit in the 2nd number.\n",
    "\n",
    "| 1-1 | 1-0 | 0-1                                | 0-0 |\n",
    "|-----|-----|------------------------------------|-----|\n",
    "| 0   | 1   | 1 (borrow 1 from next highest bit) | 0   |\n",
    "| 1*1 | 1*0 | 0*1                                | 0*0 |\n",
    "| 1   | 0   | 0                                  | 0   |\n",
    "\n",
    "| 1/1 | 0/1 |\n",
    "|-----|-----|\n",
    "| 1   | 0   |\n",
    "\n"
   ]
  },
  {
   "attachments": {},
   "cell_type": "markdown",
   "metadata": {},
   "source": [
    "<html>\n",
    "<body>\n",
    "  <h1>binary subtraction</h1>\n",
    "  <p>subtract 2 binary numbers and determine the output</p>\n",
    "  <input type=\"text\" id=\"math1\" placeholder=\"number 1\">\n",
    "  <input type=\"text\" id=\"math2\" placeholder=\"number 2\">\n",
    "\n",
    "  <button onclick=\"subtract()\">Subtract numbers</button>\n",
    "  <h2 id=\"result\">result</h2>\n",
    "  <script>\n",
    "    function subtract() {\n",
    "      math3 = parseInt(math1) - parseInt(math2)\n",
    "      result = (math3)\n",
    "      console.log(math3)\n",
    "    }\n",
    "  </script>\n",
    "</body>\n",
    "</html>"
   ]
  },
  {
   "attachments": {},
   "cell_type": "markdown",
   "metadata": {},
   "source": [
    "# binary logic hacks\n",
    "\n",
    "![]({{site.baseurl}}/images/screenshot0.png)  \n",
    "\n",
    "Question: What is the following notation known as (X^Y)'\n",
    "\n",
    "Answer: xor\n",
    "\n",
    "Your result: XNOR, incorrect\n",
    "\n",
    "wait, why did I get this wrong? theres a quote thing outside so it should be XNOR, why is it XOR? maybe this is an error or im just wrong, \n",
    "\n",
    "Question: 1 and not 0 and 0 is?\n",
    "\n",
    "Answer: 0\n",
    "\n",
    "Your result: false, incorrect\n",
    "\n",
    "I put binary instead of false, should be false as the question isn't asking for binary\n",
    "\n",
    "Question: What is (0^1)' in b values?\n",
    "\n",
    "Answer: 1\n",
    "\n",
    "Your result: 0, incorrect\n",
    "\n",
    "I think this should be 0 because it's inverse but I could be wrong\n",
    "\n",
    "Question: What is 23^57?\n",
    "\n",
    "Answer: 46\n",
    "\n",
    "Your result: true, incorrect\n",
    "\n",
    "Im not sure what the numbers mean to be honest. but I know this is an XOR. maybe its true because the 2 values are positive?\n",
    "\n",
    "Question: What is 13&7\n",
    "\n",
    "Answer: 5\n",
    "\n",
    "Your result: 1011&101, incorrect\n",
    "\n",
    "Ok I have no idea what this means. do the numbers indicate if its true or false?"
   ]
  }
 ],
 "metadata": {
  "kernelspec": {
   "display_name": "base",
   "language": "python",
   "name": "python3"
  },
  "language_info": {
   "codemirror_mode": {
    "name": "ipython",
    "version": 3
   },
   "file_extension": ".py",
   "mimetype": "text/x-python",
   "name": "python",
   "nbconvert_exporter": "python",
   "pygments_lexer": "ipython3",
   "version": "3.9.12"
  },
  "orig_nbformat": 4
 },
 "nbformat": 4,
 "nbformat_minor": 2
}
