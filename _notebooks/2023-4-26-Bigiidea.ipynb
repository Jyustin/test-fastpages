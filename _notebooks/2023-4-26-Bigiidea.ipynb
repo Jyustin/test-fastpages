{
 "cells": [
  {
   "attachments": {},
   "cell_type": "markdown",
   "metadata": {},
   "source": [
    "# havs\n",
    "> no\n",
    "- toc: true\n",
    "- comments: true\n",
    "- badges: false\n",
    "- categories: [student]\n",
    "- type: ap\n",
    "- week: 31"
   ]
  },
  {
   "attachments": {},
   "cell_type": "markdown",
   "metadata": {},
   "source": [
    "# binary math hacks\n",
    "\n",
    "Question: How do you think we should find the difference of two binary numbers? The product? The quotient? What rules need to be followed for those operations? Look into all of this on the Internet and note down important information you find.\n",
    "\n",
    "ANSWER: We can find the difference of 2 binary numbers by setting them up where the each of the bit places are corresponding with each other, then subtract so that each place is subtracted with its place in the 2nd number. for example, 111 - 110 would be 001, or 1 in decimal. for a product, we do the same thing in that we line up all of the bit places and multiply by each place. multiplying 101 and 001 would just be 101. The best way for finding the quotient of 2 binary numbers would just be to convert to decimal and divide, then convert back to binary, as any other way would be needlessly complicated.\n",
    "\n",
    "!: you can actually do any form of operations for any 2 binary numbers just by converting to decimal, performing the operation, then converting back to binary. \n",
    "\n",
    "However, remember addition, subtraction, and multiplication can be done by doing each of those operations for each bit in the number, with it's corresponding bit in the 2nd number.\n",
    "\n",
    "| 1-1 | 1-0 | 0-1                                | 0-0 |\n",
    "|-----|-----|------------------------------------|-----|\n",
    "| 0   | 1   | 1 (borrow 1 from next highest bit) | 0   |\n",
    "| 1*1 | 1*0 | 0*1                                | 0*0 |\n",
    "| 1   | 0   | 0                                  | 0   |\n",
    "\n",
    "| 1/1 | 0/1 |\n",
    "|-----|-----|\n",
    "| 1   | 0   |\n",
    "\n"
   ]
  },
  {
   "attachments": {},
   "cell_type": "markdown",
   "metadata": {},
   "source": [
    "<html>\n",
    "<body>\n",
    "  <h1>binary subtraction</h1>\n",
    "  <p>subtract 2 binary numbers and determine the output</p>\n",
    "  <input type=\"text\" id=\"math1\" placeholder=\"number 1\">\n",
    "  <input type=\"text\" id=\"math2\" placeholder=\"number 2\">\n",
    "\n",
    "  <button onclick=\"subtract()\">Subtract numbers</button>\n",
    "  <h2 id=\"result\">result</h2>\n",
    "  <script>\n",
    "    function subtract() {\n",
    "      math3 = parseInt(math1) - parseInt(math2)\n",
    "      result = (math3)\n",
    "      console.log(math3)\n",
    "    }\n",
    "  </script>\n",
    "</body>\n",
    "</html>"
   ]
  },
  {
   "attachments": {},
   "cell_type": "markdown",
   "metadata": {},
   "source": [
    "# binary logic hacks\n",
    "\n",
    "![]({{site.baseurl}}/images/screenshot0.png)  \n",
    "\n",
    "Question: What is the following notation known as (X^Y)'\n",
    "\n",
    "Answer: xor\n",
    "\n",
    "Your result: XNOR, incorrect\n",
    "\n",
    "wait, why did I get this wrong? theres a quote thing outside so it should be XNOR, why is it XOR? maybe this is an error or im just wrong, \n",
    "\n",
    "Question: 1 and not 0 and 0 is?\n",
    "\n",
    "Answer: 0\n",
    "\n",
    "Your result: false, incorrect\n",
    "\n",
    "I put binary instead of false, should be false as the question isn't asking for binary\n",
    "\n",
    "Question: What is (0^1)' in b values?\n",
    "\n",
    "Answer: 1\n",
    "\n",
    "Your result: 0, incorrect\n",
    "\n",
    "I think this should be 0 because it's inverse but I could be wrong\n",
    "\n",
    "Question: What is 23^57?\n",
    "\n",
    "Answer: 46\n",
    "\n",
    "Your result: true, incorrect\n",
    "\n",
    "Im not sure what the numbers mean to be honest. but I know this is an XOR. maybe its true because the 2 values are positive?\n",
    "\n",
    "Question: What is 13&7\n",
    "\n",
    "Answer: 5\n",
    "\n",
    "Your result: 1011&101, incorrect\n",
    "\n",
    "Ok I have no idea what this means. do the numbers indicate if its true or false?"
   ]
  },
  {
   "attachments": {},
   "cell_type": "markdown",
   "metadata": {},
   "source": [
    "# Logic Gate hacks\n",
    "\n",
    "1.How can logic gates be used to execute basic computer functions?(1-2 sentences)\n",
    "\n",
    "ANS: We can use logic gates to execute basic computer functions by programming our computer so that when certain switches are active, something happens. for example, we can start with a basic logic gate to determine whether or not the laptop is on, ,then have logic gates that activate when the laptop is turned on to start the basic processes. each startup process like the screen starting up would have a logic gate attached to it for when a certain item needs to display, like the color of a pixel.\n",
    "\n",
    "2.What is the difference between boolean operations and logic gates?(1-2 sentences)\n",
    "\n",
    "ANS: Boolean operations take in 2 or more values (0 or 1) and determines whether or not the result of the operation is true or false. With logic gates, our potential outputs can be more than just true or false, depending on what each logic gate computes to. We can also have complex logic gates that use boolean variables to get our output.\n",
    "\n",
    "### quiz\n",
    "\n",
    "![]({{site.baseurl}}/images/shot1.png)  \n",
    "\n",
    "![]({{site.baseurl}}/images/shot0.png) \n",
    "\n",
    "I got this problem wrong because I didn't have a clear understanding of logic gate. I know 1 is wrong because we could just have a logic gate with 1 variable, theres no rule we need to compare 2 booleans. Also the 2nd wrong part was just common sense, there are obviously other ways to implement a logic gate into a system."
   ]
  },
  {
   "attachments": {},
   "cell_type": "markdown",
   "metadata": {},
   "source": [
    "# fetching hacks"
   ]
  },
  {
   "cell_type": "code",
   "execution_count": null,
   "metadata": {},
   "outputs": [],
   "source": [
    "data = [\"roe\"]"
   ]
  }
 ],
 "metadata": {
  "kernelspec": {
   "display_name": "base",
   "language": "python",
   "name": "python3"
  },
  "language_info": {
   "codemirror_mode": {
    "name": "ipython",
    "version": 3
   },
   "file_extension": ".py",
   "mimetype": "text/x-python",
   "name": "python",
   "nbconvert_exporter": "python",
   "pygments_lexer": "ipython3",
   "version": "3.9.12"
  },
  "orig_nbformat": 4
 },
 "nbformat": 4,
 "nbformat_minor": 2
}
