{
 "cells": [
  {
   "attachments": {},
   "cell_type": "markdown",
   "metadata": {},
   "source": [
    "# Building Simulation/Interaction using Lists and Iteration HACKS\n",
    "\n",
    "- toc: true\n",
    "- badges: false\n",
    "- comments: true\n",
    "- author: Haeryn Yu, Tanisha Patil, Naja Fonseca, Amitha Sanka, Sophia Tang\n",
    "- categories: [student]\n",
    "- type: ap\n",
    "- week: 31"
   ]
  },
  {
   "attachments": {},
   "cell_type": "markdown",
   "metadata": {},
   "source": [
    "# HACKS\n",
    "\n",
    "Note: simulations are efficient but can suffer if made by a human with biases.\n",
    "\n",
    "# diagram (0.1)\n",
    "\n",
    "![]({{site.baseurl}}/images/lists-1.png)  \n",
    "\n",
    "# kahoot score (0.2)\n",
    "\n",
    "I got 4142 points, which is like a 7/10. I feel like I could have done better if I wasn't rushing. On the MC I will make sure not to try to rush, or I will miss something small and get the question wrong. To be honest, the problem isn't going to be knowledge but rather time, so I could do more of these problems I guess so they are more familiar, but I think I need to work on more difficult topics like logic gates before I work on something easy like lists or dictionaries.\n",
    "\n",
    "(0.3 points) Create your own dictionary/list and use sorting algorithms to perform operations on them. (Use playlist maker as an example of what we expect ~ Make something creative and useful)\n",
    "\n",
    "# code for list/dictionary sort stuff"
   ]
  },
  {
   "cell_type": "code",
   "execution_count": 8,
   "metadata": {},
   "outputs": [
    {
     "name": "stdout",
     "output_type": "stream",
     "text": [
      "filler\n",
      "filler\n",
      "code code code\n",
      "code code code\n"
     ]
    }
   ],
   "source": [
    "todo = {\"sat\": \"filler\", \"sun\":\"filler\"}\n",
    "\n",
    "x = 1\n",
    "\n",
    "while x == 1:\n",
    "    step = input(\"what to do? type one for task, type two to look at task for a day, type three to quit\")\n",
    "    if step == \"one\":\n",
    "        task1 = input(\"what do we need to do later?\")   \n",
    "        day = input(\"which day of the weekend?\")\n",
    "        todo[day] = task1\n",
    "\n",
    "    elif step == \"two\":\n",
    "        date = input(\"which day to look at?\")\n",
    "        print(todo[date])\n",
    "\n",
    "    elif step == \"three\":\n",
    "        x = 0\n",
    "    else:\n",
    "        print(\"not a command!\")\n",
    "\n",
    "    \n"
   ]
  },
  {
   "attachments": {},
   "cell_type": "markdown",
   "metadata": {},
   "source": [
    "(0.3 points) Build your own simulation such as a random number generator or slot machine (Try using a list!)\n",
    "\n",
    "# link to simulation below\n",
    "\n",
    "[six sided dice simulation]()\n",
    "\n",
    "This is a six sided dice simulation, using random to generate a random dice roll and then printing it out for the user to view."
   ]
  },
  {
   "cell_type": "code",
   "execution_count": 2,
   "metadata": {},
   "outputs": [
    {
     "name": "stdout",
     "output_type": "stream",
     "text": [
      "try again kid\n",
      "try again kid\n",
      "try again kid\n",
      "try again kid\n",
      "try again kid\n",
      "try again kid\n",
      "try again kid\n"
     ]
    }
   ],
   "source": [
    "from numpy import random\n",
    "\n",
    "\n",
    "\n",
    "four = 4 \n",
    "\n",
    "while four == 4:\n",
    "    z = input(\"spin the slots! get all 5s to win! type spin to spin, type no to quit\")\n",
    "    \n",
    "    if z == \"spin\":\n",
    "        x = random.randint(0,5)\n",
    "        y = random.randint(0,5)\n",
    "        l = random.randint(0,5)\n",
    "        if x == 5:\n",
    "            if y == 5:\n",
    "                if l == 5:\n",
    "                    print(\"you won!\")\n",
    "        else:\n",
    "            print(\"try again kid\")\n",
    "    elif z == \"no\":\n",
    "        four = 1\n",
    "\n",
    "    else:\n",
    "        print(\"unrecognized command\")\n",
    "    \n"
   ]
  },
  {
   "attachments": {},
   "cell_type": "markdown",
   "metadata": {},
   "source": [
    "I also made a simple slot machine simulation that just uses random to generate random numbers, and you win if all 3 numbers are 5. This could easily be\n",
    "fixed up and improved with sass for a realistic slots experience. Other applications could be utilizing a similar algorithm in games to make random events occur that should \n",
    "be rare, but you could also achieve a similar result by doing random.randint(0,x) where x is how impossible the odds should be, then just have 1 number cause the\n",
    "event to occur. There are probably easier ways to build a slot machine algorithm actually."
   ]
  }
 ],
 "metadata": {
  "kernelspec": {
   "display_name": "base",
   "language": "python",
   "name": "python3"
  },
  "language_info": {
   "codemirror_mode": {
    "name": "ipython",
    "version": 3
   },
   "file_extension": ".py",
   "mimetype": "text/x-python",
   "name": "python",
   "nbconvert_exporter": "python",
   "pygments_lexer": "ipython3",
   "version": "3.9.12"
  },
  "orig_nbformat": 4
 },
 "nbformat": 4,
 "nbformat_minor": 2
}
