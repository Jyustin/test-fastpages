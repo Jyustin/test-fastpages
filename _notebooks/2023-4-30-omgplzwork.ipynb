{
 "cells": [
  {
   "attachments": {},
   "cell_type": "markdown",
   "metadata": {},
   "source": [
    "# Building Simulation/Interaction using Lists and Iteration HACKS\n",
    "\n",
    "- toc: true\n",
    "- badges: false\n",
    "- comments: true\n",
    "- author: Haeryn Yu, Tanisha Patil, Naja Fonseca, Amitha Sanka, Sophia Tang\n",
    "- categories: [student]\n",
    "- type: ap\n",
    "- week: 31"
   ]
  },
  {
   "attachments": {},
   "cell_type": "markdown",
   "metadata": {},
   "source": [
    "test"
   ]
  }
 ],
 "metadata": {
  "language_info": {
   "name": "python"
  },
  "orig_nbformat": 4
 },
 "nbformat": 4,
 "nbformat_minor": 2
}
