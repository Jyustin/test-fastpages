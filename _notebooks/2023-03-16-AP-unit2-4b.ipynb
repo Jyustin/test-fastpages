{
 "cells": [
  {
   "attachments": {},
   "cell_type": "markdown",
   "metadata": {},
   "source": [
    "#  Unit 2.4b Using Programs with Data, SQL\n",
    "> Using Programs with Data is focused on SQL and database actions.  Part B focuses on learning SQL commands, connections, and curses using an Imperative programming style,\n",
    "- toc: true\n",
    "- image: /images/python.png\n",
    "- categories: []\n",
    "- type: ap\n",
    "- week: 26"
   ]
  },
  {
   "attachments": {},
   "cell_type": "markdown",
   "metadata": {},
   "source": [
    "# Database Programming is Program with Data\n",
    "> Each Tri 2 Final Project should be an example of a Program with Data. \n",
    "\n",
    ">  Prepare to use SQLite in common Imperative Technique\n",
    "- Explore [SQLite Connect object](https://www.tutorialspoint.com/python_data_access/python_sqlite_establishing_connection.htm) to establish database connection\n",
    "- Explore [SQLite Cursor Object](https://www.tutorialspoint.com/python_data_access/python_sqlite_cursor_object.htm) to fetch data from a table within a database\n"
   ]
  },
  {
   "attachments": {},
   "cell_type": "markdown",
   "metadata": {},
   "source": [
    "## Schema of Users table in Sqlite.db\n",
    "> Uses PRAGMA statement to read schema.\n",
    "\n",
    "Describe Schema, here is resource [Resource](https://www.sqlite.org/index.html)\n",
    "- What is a database schema?\n",
    "- What is the purpose of identity Column in SQL database?\n",
    "- What is the purpose of a primary key in SQL database?\n",
    "- What are the Data Types in SQL table?"
   ]
  },
  {
   "attachments": {},
   "cell_type": "markdown",
   "metadata": {},
   "source": [
    "### ans\n",
    "\n",
    "A database schema is how the database is structured and defines how all of the data in the database is organized, like defining the columns in the database for ease of access.\n",
    "\n",
    "An identity column would be used for values that can be used to identify a object in the database.\n",
    "\n",
    "a primary key is an identifier of a unit in the database, like user id/login info\n",
    "\n",
    "some data types include integers, strings, booleans, basically any types can be in a table.\n",
    "\n"
   ]
  },
  {
   "cell_type": "code",
   "execution_count": 7,
   "metadata": {},
   "outputs": [
    {
     "name": "stdout",
     "output_type": "stream",
     "text": [
      "(0, 'id', 'INTEGER', 1, None, 1)\n",
      "(1, '_name', 'VARCHAR(255)', 1, None, 0)\n",
      "(2, '_uid', 'VARCHAR(255)', 1, None, 0)\n",
      "(3, '_password', 'VARCHAR(255)', 1, None, 0)\n",
      "(4, '_dob', 'DATE', 0, None, 0)\n"
     ]
    }
   ],
   "source": [
    "import sqlite3\n",
    "\n",
    "database = 'instance/sqlite.db' # this is location of database\n",
    "\n",
    "    \n",
    "    # Connect to the database file\n",
    "conn = sqlite3.connect(database)\n",
    "\n",
    "    # Create a cursor object to execute SQL queries\n",
    "cursor = conn.cursor()\n",
    "    \n",
    "    # Fetch results of Schema\n",
    "\n",
    "results = cursor.execute(\"PRAGMA table_info('users')\").fetchall()\n",
    "\n",
    "    # Print the results\n",
    "for row in results:\n",
    "    print(row)\n",
    "\n",
    "    # Close the database connection\n",
    "    \n",
    "\n",
    "def create_table(conn, create_table_sql):\n",
    "    \"\"\" create a table from the create_table_sql statement\n",
    "    :param conn: Connection object\n",
    "    :param create_table_sql: a CREATE TABLE statement\n",
    "    :return:\n",
    "    \"\"\"\n",
    "    c = conn.cursor()\n",
    "    c.execute(create_table_sql)\n",
    "   \n",
    "sql_create_comments_table = \"\"\" CREATE TABLE IF NOT EXISTS projects (\n",
    "                                        _uid integer PRIMARY KEY,\n",
    "                                        _name text NOT NULL\n",
    "                                    ); \"\"\"\n",
    "\n",
    "\n",
    "create_table(conn, sql_create_comments_table)\n",
    "conn.commit()"
   ]
  },
  {
   "attachments": {},
   "cell_type": "markdown",
   "metadata": {},
   "source": [
    "## Reading Users table in Sqlite.db\n",
    "> Uses SQL SELECT statement to read data\n",
    "\n",
    "- What is a connection object?  After you google it, what do you think it does?\n",
    "- Same for cursor object?\n",
    "- Look at conn object and cursor object in VSCode debugger.  What attributes are in the object?\n",
    "- Is \"results\" an object?  How do you know?"
   ]
  },
  {
   "attachments": {},
   "cell_type": "markdown",
   "metadata": {},
   "source": [
    "### ans\n",
    "\n",
    "a connection object would a way for user or program to connect to database\n",
    "\n",
    "the cursor object is used to making specific connections to the database to do things like delete users.\n",
    "\n",
    "It looks like the cursor has special functions for doing specific tasks. Cursor has functions like \"fetch all\" in its function variables\n",
    "\n",
    "the conn object looks like the object that enables program to database connection. Conn has functions like \"backup\" in its function variables.\n",
    "\n",
    "Results is also an object it has things in it like data in this case. "
   ]
  },
  {
   "cell_type": "code",
   "execution_count": 9,
   "metadata": {},
   "outputs": [
    {
     "name": "stdout",
     "output_type": "stream",
     "text": [
      "(2, 'Nikola Tesla', 'niko', 'sha256$L8LHfgUWmUdxAhHq$b67a269b0ed673b6eaf4f23b18e727b5d3c2f4dfa538b8dc3981b63a62e5869f', '2023-03-15')\n",
      "(3, 'Alexander Graham Bell', 'lex', 'sha256$uG7nPzUXgsO7tSoZ$ad984e4433727b27c001aa2a1041d046ec0b9124dc4348301a4054d1b14a9742', '2023-03-15')\n",
      "(4, 'Eli Whitney', 'whit', 'sha256$WKZB8UzfCZL5W6J5$22ac2a35561b01eda1508ee858d15d2d1d7172ecbc24a8883a2ee95afcfd797e', '2023-03-15')\n",
      "(5, 'Indiana Jones', 'indi', 'sha256$73Nq2XnzW9cM18Fo$efc131b5fcf7d36ba6dede2872c82efce4bca52895a7da640d59829e8461db58', '1920-10-21')\n",
      "(6, 'octavia', 'uid', 'd', '2020-22-22')\n"
     ]
    }
   ],
   "source": [
    "import sqlite3\n",
    "\n",
    "def read():\n",
    "    # Connect to the database file\n",
    "    conn = sqlite3.connect(database)\n",
    "\n",
    "    # Create a cursor object to execute SQL queries\n",
    "    cursor = conn.cursor()\n",
    "    \n",
    "    # Execute a SELECT statement to retrieve data from a table\n",
    "    results = cursor.execute('SELECT * FROM users').fetchall()\n",
    "\n",
    "    # Print the results\n",
    "    if len(results) == 0:\n",
    "        print(\"Table is empty\")\n",
    "    else:\n",
    "        for row in results:\n",
    "            print(row)\n",
    "\n",
    "    # Close the cursor and connection objects\n",
    "    cursor.close()\n",
    "    conn.close()\n",
    "    \n",
    "read()\n"
   ]
  },
  {
   "attachments": {},
   "cell_type": "markdown",
   "metadata": {},
   "source": [
    "## Create a new User in table in Sqlite.db\n",
    "> Uses SQL INSERT to add row\n",
    "-  Compore create() in both SQL lessons.  What is better or worse in the two implementations?\n",
    "-  Explain purpose of SQL INSERT.   Is this the same as User __init__?"
   ]
  },
  {
   "attachments": {},
   "cell_type": "markdown",
   "metadata": {},
   "source": [
    "### ans\n",
    "\n",
    "this create uses conn as method to connect to database and cursor to interact with it. the other create uses objects to store the user while it is being made, and uses a seperate\n",
    "user class to create those user objects. the 2nd implementation is a lot mroe longer and looks harder to read, while this one is more compact. However, the use of oop in the 4a example could have its uses. The 2nd might be better in long term as using objects for storing users may make troubleshooting easier in the future. \n",
    "\n",
    "SQL Insert  is different in that it is used to add new things into our database, and is purely for that purpose, while user init is used to initialize the entire database and all of it's objects, and is therefore much more important."
   ]
  },
  {
   "cell_type": "code",
   "execution_count": 10,
   "metadata": {},
   "outputs": [
    {
     "name": "stdout",
     "output_type": "stream",
     "text": [
      "A new user record  has been created\n"
     ]
    }
   ],
   "source": [
    "import sqlite3\n",
    "\n",
    "def create():\n",
    "    name = input(\"Enter your name:\")\n",
    "    uid = input(\"Enter your user id:\")\n",
    "    password = input(\"Enter your password\")\n",
    "    dob = input(\"Enter your date of birth 'YYYY-MM-DD'\")\n",
    "    \n",
    "    # Connect to the database file\n",
    "    conn = sqlite3.connect(database)\n",
    "\n",
    "    # Create a cursor object to execute SQL commands\n",
    "    cursor = conn.cursor()\n",
    "\n",
    "    try:\n",
    "        # Execute an SQL command to insert data into a table\n",
    "        cursor.execute(\"INSERT INTO users (_name, _uid, _password, _dob) VALUES (?, ?, ?, ?)\", (name, uid, password, dob))\n",
    "        \n",
    "        # Commit the changes to the database\n",
    "        conn.commit()\n",
    "        print(f\"A new user record {uid} has been created\")\n",
    "                \n",
    "    except sqlite3.Error as error:\n",
    "        print(\"Error while executing the INSERT:\", error)\n",
    "\n",
    "\n",
    "    # Close the cursor and connection objects\n",
    "    cursor.close()\n",
    "    conn.close()\n",
    "    \n",
    "#create()"
   ]
  },
  {
   "attachments": {},
   "cell_type": "markdown",
   "metadata": {},
   "source": [
    "## Updating a User in table in Sqlite.db\n",
    "> Uses SQL UPDATE to modify password\n",
    "- What does the hacked part do?\n",
    "- Explain try/except, when would except occur?\n",
    "- What code seems to be repeated in each of these examples to point, why is it repeated?"
   ]
  },
  {
   "attachments": {},
   "cell_type": "markdown",
   "metadata": {},
   "source": [
    "### ans\n",
    "\n",
    "the hacked part makes it so that the user's password becomes a different one if they set it to be too short, probably to ensure users set protective passwords.\n",
    "\n",
    "the try and except is used so that one thing occurs, except for when another thing would happen. the except occurs when theres an error with executing sqlite commands or accessing the database.\n",
    "\n",
    "the conn and cursor are repeated each time, probably because these are neccessary for each function to operate."
   ]
  },
  {
   "cell_type": "code",
   "execution_count": 11,
   "metadata": {},
   "outputs": [],
   "source": [
    "import sqlite3\n",
    "\n",
    "def update():\n",
    "    uid = input(\"Enter user id to update\")\n",
    "    password = input(\"Enter updated password\")\n",
    "    if len(password) < 2:\n",
    "        message = \"hacked\"\n",
    "        password = 'gothackednewpassword123'\n",
    "    else:\n",
    "        message = \"successfully updated\"\n",
    "\n",
    "    # Connect to the database file\n",
    "    conn = sqlite3.connect(database)\n",
    "\n",
    "    # Create a cursor object to execute SQL commands\n",
    "    cursor = conn.cursor()\n",
    "\n",
    "    try:\n",
    "        # Execute an SQL command to update data in a table\n",
    "        cursor.execute(\"UPDATE users SET _password = ? WHERE _uid = ?\", (password, uid))\n",
    "        if cursor.rowcount == 0:\n",
    "            # The uid was not found in the table\n",
    "            print(f\"No uid {uid} was not found in the table\")\n",
    "        else:\n",
    "            print(f\"The row with user id {uid} the password has been {message}\")\n",
    "            conn.commit()\n",
    "    except sqlite3.Error as error:\n",
    "        print(\"Error while executing the UPDATE:\", error)\n",
    "        \n",
    "    \n",
    "    # Close the cursor and connection objects\n",
    "    cursor.close()\n",
    "    conn.close()\n",
    "    \n",
    "#update()\n"
   ]
  },
  {
   "attachments": {},
   "cell_type": "markdown",
   "metadata": {},
   "source": [
    "## Delete a User in table in Sqlite.db\n",
    "> Uses a delete function to remove a user based on a user input of the id.\n",
    "- Is DELETE a dangerous operation?  Why?\n",
    "- In the print statemements, what is the \"f\" and what does {uid} do?"
   ]
  },
  {
   "attachments": {},
   "cell_type": "markdown",
   "metadata": {},
   "source": [
    "### ans\n",
    "\n",
    "Delete could potentially be dangerous as without a verification system for it, users could accidentally delete others accounts. \n",
    "\n",
    "I think that the f allows us to print the {uid} in the print, and the {uid} is used to allow us to print the uid the users inputted, although im not entirely sure.\n"
   ]
  },
  {
   "cell_type": "code",
   "execution_count": 12,
   "metadata": {},
   "outputs": [],
   "source": [
    "import sqlite3\n",
    "\n",
    "def delete():\n",
    "    uid = input(\"Enter user id to delete\")\n",
    "\n",
    "    # Connect to the database file\n",
    "    conn = sqlite3.connect(database)\n",
    "\n",
    "    # Create a cursor object to execute SQL commands\n",
    "    cursor = conn.cursor()\n",
    "    \n",
    "    try:\n",
    "        cursor.execute(\"DELETE FROM users WHERE _uid = ?\", (uid,))\n",
    "        if cursor.rowcount == 0:\n",
    "            # The uid was not found in the table\n",
    "            print(f\"No uid {uid} was not found in the table\")\n",
    "        else:\n",
    "            # The uid was found in the table and the row was deleted\n",
    "            print(f\"The row with uid {uid} was successfully deleted\")\n",
    "        conn.commit()\n",
    "    except sqlite3.Error as error:\n",
    "        print(\"Error while executing the DELETE:\", error)\n",
    "        \n",
    "    # Close the cursor and connection objects\n",
    "    cursor.close()\n",
    "    conn.close()\n",
    "    \n",
    "#delete()"
   ]
  },
  {
   "attachments": {},
   "cell_type": "markdown",
   "metadata": {},
   "source": [
    "# Menu Interface to CRUD operations\n",
    "> CRUD and Schema interactions from one location by running menu. Observe input at the top of VSCode, observe output underneath code cell.\n",
    "- Why does the menu repeat?\n",
    "- Could you refactor this menu?  Make it work with a List?"
   ]
  },
  {
   "attachments": {},
   "cell_type": "markdown",
   "metadata": {},
   "source": [
    "### ans\n",
    "\n",
    "the menu repeats because the end of the conditional statement causes the statement to run again. it does break when the program detects a certain input.\n",
    "\n",
    "the menu could be refactored with a list maybe, if we used key-value pairs, but we would still have to use if statements. a for loop might work as well however."
   ]
  },
  {
   "cell_type": "code",
   "execution_count": 14,
   "metadata": {},
   "outputs": [
    {
     "name": "stdout",
     "output_type": "stream",
     "text": [
      "(2, 'Nikola Tesla', 'niko', 'sha256$L8LHfgUWmUdxAhHq$b67a269b0ed673b6eaf4f23b18e727b5d3c2f4dfa538b8dc3981b63a62e5869f', '2023-03-15')\n",
      "(3, 'Alexander Graham Bell', 'lex', 'sha256$uG7nPzUXgsO7tSoZ$ad984e4433727b27c001aa2a1041d046ec0b9124dc4348301a4054d1b14a9742', '2023-03-15')\n",
      "(4, 'Eli Whitney', 'whit', 'sha256$WKZB8UzfCZL5W6J5$22ac2a35561b01eda1508ee858d15d2d1d7172ecbc24a8883a2ee95afcfd797e', '2023-03-15')\n",
      "(5, 'Indiana Jones', 'indi', 'sha256$73Nq2XnzW9cM18Fo$efc131b5fcf7d36ba6dede2872c82efce4bca52895a7da640d59829e8461db58', '1920-10-21')\n",
      "(6, 'octavia', 'uid', 'd', '2020-22-22')\n",
      "(7, '', '', '', '')\n"
     ]
    }
   ],
   "source": [
    "# Menu, to run other cells from one control point\n",
    "def menu():\n",
    "    operation = input(\"Enter: (C)reate (R)ead (U)pdate or (D)elete or (S)chema\")\n",
    "    if operation.lower() == 'c':\n",
    "        create()\n",
    "    elif operation.lower() == 'r':\n",
    "        read()\n",
    "    elif operation.lower() == 'u':\n",
    "        update()\n",
    "    elif operation.lower() == 'd':\n",
    "        delete()\n",
    "    elif operation.lower() == 's':\n",
    "        schema()\n",
    "    elif len(operation)==0: # Escape Key\n",
    "        return\n",
    "    else:\n",
    "        print(\"Please enter c, r, u, or d\") \n",
    "    menu() # recursion, repeat menu\n",
    "        \n",
    "try:\n",
    "    menu() # start menu\n",
    "except:\n",
    "    print(\"Perform Jupyter 'Run All' prior to starting menu\")\n"
   ]
  },
  {
   "attachments": {},
   "cell_type": "markdown",
   "metadata": {},
   "source": [
    "# Hacks\n",
    "- Add this Blog to you own Blogging site.  In the Blog add notes and observations on each code cell.\n",
    "- In this implementation, do you see procedural abstraction?\n",
    "- In 2.4a or 2.4b lecture\n",
    "    - Do you see data abstraction?  Complement this with Debugging example.\n",
    "    - Use Imperative or OOP style to Create a new Table or do something that applies to your CPT project.\n",
    "    \n",
    "\n",
    "Reference... [sqlite documentation](https://www.sqlitetutorial.net/sqlite-python/creating-tables/)\n"
   ]
  },
  {
   "attachments": {},
   "cell_type": "markdown",
   "metadata": {},
   "source": [
    "# procedural abstraction\n",
    "this is when we define code blocks or procedures with named variables for specfic usage. with this implementation, specifically in the create function, we have a create function, which we can call upon in our menu code block for whenever we need to make a new user.\n",
    "\n",
    "# DATA ABSTRACTION EXAMPLE WITH DEBUGGING IN 2.4b\n",
    "\n",
    "![title](images/debug0.png)\n",
    "\n",
    "![title](images/debug1.png)\n",
    "\n",
    "\n",
    "when debugging the first code block in this file, we can see an example of data abstraction in the conn variable. This conn variable does data abstraction by storing a bunch of different functions in it for the user to use. this is seen in the 2nd image, when we create a cursor object by using the cursor method of conn. this data abstraction is occuring in that conn hides a bunch of important methods and functions from the programmer/user, so that the user can use the methods in sqlite without having a bunch of different methods to sort through.\n",
    "\n",
    "\n",
    "\n",
    "# score\n",
    "\n",
    "![title](images/quizzya.png)\n",
    "\n"
   ]
  }
 ],
 "metadata": {
  "kernelspec": {
   "display_name": "base",
   "language": "python",
   "name": "python3"
  },
  "language_info": {
   "codemirror_mode": {
    "name": "ipython",
    "version": 3
   },
   "file_extension": ".py",
   "mimetype": "text/x-python",
   "name": "python",
   "nbconvert_exporter": "python",
   "pygments_lexer": "ipython3",
   "version": "3.9.12"
  },
  "orig_nbformat": 4,
  "vscode": {
   "interpreter": {
    "hash": "8b82d5009c68ba5675978267e2b13a671f2a7143d61273c5a3813c97e0b2493d"
   }
  }
 },
 "nbformat": 4,
 "nbformat_minor": 2
}
