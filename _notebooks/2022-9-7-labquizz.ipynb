{
 "cells": [
  {
   "cell_type": "markdown",
   "metadata": {},
   "source": [
    "# lab quiz blog post\n",
    "> hacks for code.org  week 3\n",
    "- toc: true \n",
    "- badges: true\n",
    "- comments: true\n",
    "- categories: [python codes]"
   ]
  },
  {
   "cell_type": "markdown",
   "metadata": {},
   "source": [
    "#Outline\n",
    "<pre>\n",
    "This is our blog for code.org 3 question quiz. \n",
    "fruit quiz\n",
    "4 different choices, 1 correct answer, for each question.\n",
    "fruit image at the start\n",
    "image corresponding with each choice\n",
    "display score at the end\n",
    "question 1: what color is an apple? \n",
    "answer: red\n",
    "wrong: orange\n",
    "wrong: blue \n",
    "wrong: purple\n",
    "question 2: when were bananas discovered?\n",
    "answer: 327 BC\n",
    "wrong: 1999\n",
    "wrong: 1782\n",
    "wrong: 2020 BC\n",
    "question 3: which one is not a fruit?\n",
    "answer: mushroom\n",
    "wrong: tomato\n",
    "wrong: melon\n",
    "wrong: strawberry\n",
    "struggles: adding the ability to see score at the end of the quiz was challenging, as we hadn't worked with javascript before and were confused by what to do, but eventually got it with a variable that adds onto itself each time the correct answer is selected.\n",
    "</pre>"
   ]
  },
  {
   "cell_type": "code",
   "execution_count": null,
   "metadata": {},
   "outputs": [],
   "source": [
    "#the outline\n",
    "if button pressed:\n",
    "    x=x+1\n"
   ]
  }
 ],
 "metadata": {
  "kernelspec": {
   "display_name": "Python 3.8.10 64-bit",
   "language": "python",
   "name": "python3"
  },
  "language_info": {
   "name": "python",
   "version": "3.8.10"
  },
  "orig_nbformat": 4,
  "vscode": {
   "interpreter": {
    "hash": "916dbcbb3f70747c44a77c7bcd40155683ae19c65e1c03b4aa3499c5328201f1"
   }
  }
 },
 "nbformat": 4,
 "nbformat_minor": 2
}
