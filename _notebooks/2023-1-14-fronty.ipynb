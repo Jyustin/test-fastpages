{
 "cells": [
  {
   "attachments": {},
   "cell_type": "markdown",
   "metadata": {},
   "source": [
    "# frontend coding hacks 1/15\n",
    "> hacks\n",
    "\n",
    "- toc: true \n",
    "- badges: true\n",
    "- comments: true\n",
    "- categories: [performancetask]"
   ]
  },
  {
   "attachments": {},
   "cell_type": "markdown",
   "metadata": {},
   "source": [
    "# hacks below\n",
    "\n",
    "<html>\n",
    "\n",
    "<p><label>\n",
    "        letter 1:\n",
    "        <input type=\"text\" name=\"letter1\" id=\"letter1\" required>\n",
    "    </label></p>\n",
    "\n",
    "<script>\n",
    "\n",
    "const let1 = document.getElementById(\"letter1\").value;\n",
    "list = []\n",
    "</script>\n",
    "\n",
    " <p><button onclick=\"store_letter()\">store</button></p>\n",
    "\n",
    "<html>\n",
    "\n"
   ]
  },
  {
   "cell_type": "code",
   "execution_count": null,
   "metadata": {},
   "outputs": [],
   "source": []
  }
 ],
 "metadata": {
  "kernelspec": {
   "display_name": "Python 3",
   "language": "python",
   "name": "python3"
  },
  "language_info": {
   "name": "python",
   "version": "3.8.10 (default, Jun 22 2022, 20:18:18) \n[GCC 9.4.0]"
  },
  "orig_nbformat": 4,
  "vscode": {
   "interpreter": {
    "hash": "916dbcbb3f70747c44a77c7bcd40155683ae19c65e1c03b4aa3499c5328201f1"
   }
  }
 },
 "nbformat": 4,
 "nbformat_minor": 2
}
