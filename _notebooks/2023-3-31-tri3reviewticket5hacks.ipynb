{
 "cells": [
  {
   "attachments": {},
   "cell_type": "markdown",
   "metadata": {},
   "source": [
    "#  hacks for tri 3 review ticket 5 (parallel computing, Hashmaps)\n",
    "> why do my ipynb files not work?\n",
    "- toc: true\n",
    "- categories: []"
   ]
  },
  {
   "attachments": {},
   "cell_type": "markdown",
   "metadata": {},
   "source": [
    "# Parallel computing hacks (start here!)\n",
    "\n",
    "## Hacks\n",
    "> AP Classroom. Provide answers and thoughts on theoritical question form college board Video in section 4.3.  They start at about the 9 minute mark.\n",
    "- Example 1\n",
    "- Example 2\n",
    "\n",
    "> Data Structures.  Build a List Comprehension example\n",
    "- list = [calc(item) for item in items]\n",
    "\n",
    "# HACCCS response \n",
    "\n",
    "# notes from video\n",
    "\n",
    "Sequential computing is a computational model in which operations are performed in order one at a time\n",
    "\n",
    "Parallel computing is a computational model where the program is broken into multiple smaller sequential computing operations,, some of which are performed simultaneously.\n",
    "\n",
    "Computers handle a lot of tasks at once\n",
    "\n",
    "running tasks can be done sequentially, in parallel.\n",
    "\n",
    "tasks are done one at a time in sequential programming (like conveyor belt)\n",
    "\n",
    "IN PARALLEL COMPUTING:\n",
    "\n",
    "parallel computing schedules tasks to be executed at same tme\n",
    "\n",
    "parallel computing overall processes data faster and it scales more effectively.\n",
    "\n",
    "\n",
    "### simple Example \n",
    "\n",
    "Core 1: task A takes 45 ms\n",
    "\n",
    "Core 2: task B takes 50 ms\n",
    "\n",
    "Core 3: Task C takes 25 ms; task D takes 30 ms\n",
    "\n",
    "Core 4: Task E takes 40 ms\n",
    "\n",
    "Total time: 55 ms (core 3 runs task C and D in sequence)\n",
    "\n",
    "Basically, 5 tasks are spread out between 4 cores,  and all complete tasks at once, finally being done when all cores finish their individual task.\n",
    "\n",
    "Obviously, if we run all tasks in sequential on 1 core, the time becomes much longer.\n",
    "\n",
    "Distributive computing: we now distribute our tasks among dfferent computers, not just among 1 physical computer. This needs network connection. Can take longer if network is bad.\n",
    "\n",
    "## Example 1\n",
    "\n",
    "A particular computer has 2 identical processors which can run in parallel. Each process must be executed on 1 processor and each processor can only run 1 process at a time.\n",
    "\n",
    "whats the minimum amount of time (approx) to execute all 3 processes when 2 processor run in paallel?\n",
    "\n",
    "process X: 50 sec\n",
    "\n",
    "process Y: 10 sec\n",
    "\n",
    "process Z: 30 sec\n",
    "\n",
    "I think this would take 50 seconds, as we can run process X on one processor while the other runs Y and Z.\n",
    "\n",
    "I WAS RIGHT!\n",
    "\n",
    "This is a pretty good example for why parallel is good, but how can we develop programs for parallel processing if we don't have multiple processors to test on?\n",
    "\n",
    "## Example 2\n",
    "\n",
    "What is the difference in execution time between runniing the 2 processes in parallel in place of running on single processor?\n",
    "\n",
    "sequential: 70 seconds\n",
    "\n",
    "Parallel: 45 seconds\n",
    "\n",
    "70 - 45 = 25 seconds\n",
    "\n",
    "My ans: difference of 25 seconds \n",
    "\n",
    "I was right\n",
    "\n",
    "difference of 25 seconds is pretty large and seems unrealistic, but I think it demonstrates why we need to optimize for parallel computing.\n",
    "\n",
    "# list comprehension example\n",
    "> Data Structures.  Build a List Comprehension example\n",
    "- list = [calc(item) for item in items]\n"
   ]
  },
  {
   "cell_type": "code",
   "execution_count": 1,
   "metadata": {},
   "outputs": [
    {
     "name": "stdout",
     "output_type": "stream",
     "text": [
      "1\n",
      "3\n",
      "23\n",
      "63\n",
      "['cinnamon', 'cupcake batter', 'date']\n"
     ]
    }
   ],
   "source": [
    "items = [\"cinnamon\", \"cupcake batter\", \"fig\"]\n",
    "\n",
    "numbers = [1,2,20,40]\n",
    "\n",
    "newlist = [x  if x != \"fig\" else \"date\" for x in items] # remove fig from items\n",
    "\n",
    "numlist = [x for x in numbers]\n",
    "\n",
    "sum = 0\n",
    "for y in numbers:\n",
    "    sum = sum + y\n",
    "    print(sum)\n",
    "\n",
    "\n",
    "print(newlist)"
   ]
  },
  {
   "attachments": {},
   "cell_type": "markdown",
   "metadata": {},
   "source": [
    "# END OF PARALLEL HACKS\n",
    "\n",
    "# START OF HASHMAP HACKS\n",
    "\n"
   ]
  }
 ],
 "metadata": {
  "kernelspec": {
   "display_name": "base",
   "language": "python",
   "name": "python3"
  },
  "language_info": {
   "codemirror_mode": {
    "name": "ipython",
    "version": 3
   },
   "file_extension": ".py",
   "mimetype": "text/x-python",
   "name": "python",
   "nbconvert_exporter": "python",
   "pygments_lexer": "ipython3",
   "version": "3.9.12"
  },
  "orig_nbformat": 4
 },
 "nbformat": 4,
 "nbformat_minor": 2
}
