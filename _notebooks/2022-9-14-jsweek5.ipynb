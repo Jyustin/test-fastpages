{
 "cells": [
  {
   "cell_type": "markdown",
   "metadata": {},
   "source": [
    "# js week 5\n",
    "> hacks for javascript week 5\n",
    "categories: [python]\n",
    "- toc: true \n",
    "- badges: true\n",
    "- comments: true\n",
    "- categories: [js codes]"
   ]
  },
  {
   "cell_type": "code",
   "execution_count": 26,
   "metadata": {},
   "outputs": [
    {
     "name": "stdout",
     "output_type": "stream",
     "text": [
      "welcome to the apple counter\n",
      "we have a good amount of apples\n"
     ]
    }
   ],
   "source": [
    "console.log(\"welcome to the apple counter\");\n",
    "var apples = (20)\n",
    "if (apples > 50) {\n",
    "    console.log(\"we have too many apples\");\n",
    "  } else if (apples < 10) {\n",
    "    console.log(\"not enough apples\");\n",
    "  } else if (15 < apples < 25) {\n",
    "    console.log(\"we have a good amount of apples\");\n",
    "  } else {\n",
    "    console.log(\"we have a weird amount of apples\");\n",
    "  }\n",
    "\n",
    "\n",
    "\n"
   ]
  }
 ],
 "metadata": {
  "kernelspec": {
   "display_name": "JavaScript (Node.js)",
   "language": "javascript",
   "name": "javascript"
  },
  "language_info": {
   "file_extension": ".js",
   "mimetype": "application/javascript",
   "name": "javascript",
   "version": "6.11.2"
  },
  "orig_nbformat": 4,
  "vscode": {
   "interpreter": {
    "hash": "c0762eed29b05a4afca9136bf220c27b92f793c02b678b4e3b4bab383122f294"
   }
  }
 },
 "nbformat": 4,
 "nbformat_minor": 2
}
