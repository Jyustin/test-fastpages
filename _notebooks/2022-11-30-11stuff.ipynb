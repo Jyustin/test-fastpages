{
 "cells": [
  {
   "cell_type": "markdown",
   "metadata": {},
   "source": [
    "# 1.1 - 1.2 hacks and notes\n",
    "> for week 2\n",
    "categories: [python]\n",
    "tags: [python]\n",
    "- toc: true \n",
    "- badges: true\n",
    "- comments: true\n",
    "- categories: [3.1]"
   ]
  },
  {
   "cell_type": "markdown",
   "metadata": {},
   "source": [
    "# Notes\n",
    "\n",
    "### variables and lists\n",
    "\n",
    "these are an abstraction inside a program that hold a value. each variable has associated data storage that represents one value at a time, but that value can be a list or other collection that in turn contains multiple values.\n",
    "\n",
    "use good names when naming variables to make the code easy to read\n",
    "\n",
    "lists allow variables to be bundled together.\n",
    "\n",
    "you can add or remove variables from one list to another with .append\n",
    "\n",
    "### assignment operator\n",
    "\n",
    "this changes a variable to a certain value. on tests, \"⟵\" will be used for assignment.\n",
    "storing values is assigning them to variables\n",
    "\n",
    "### Key Vocab\n",
    "list: a sequence of several variables grouped together\n",
    "\n",
    "variable: a way of storing information in a computer program, which could later be changed, referenced, and used\n",
    "\n",
    "data types: a set of values and operations on those values\n",
    "\n",
    "abstract data types: a data type whose internal representation is hidden from the client\n",
    "\n",
    "client: a program that uses a data type\n",
    "\n",
    "objects: a structure that can take on a data-type value\n",
    "\n",
    "Applications programming interface (API): which is a list of constructors and instance methods or operations, used to specify the behavior of an abstract data type\n",
    "\n",
    "## Hacks 1.1-1.2\n",
    "\n",
    "3 practice questions\n",
    "\n",
    "q: which variable would you use for value of a stock?\n",
    "A: stock1 string\n",
    "B: stock string\n",
    "C: is_stock boolean\n",
    "D: stock1val integer\n",
    "Ans: D \n",
    "\n",
    "q which variable would you use for a class names?\n",
    "1: John string\n",
    "2: isJohn boolean\n",
    "3: john integer\n",
    "Ans: 1 \n",
    "\n",
    "q what variable name would you use to store whether tv is on or off?\n",
    "A: ison \n",
    "B: on\n",
    "C: off \n",
    "D: yes\n",
    "Ans: A, also store as boolean\n",
    "\n",
    "## binary hacks\n",
    "\n",
    "I did the problems on the blog. I found that converting to decimal was a lot harder than conversions from binary to decimal. \n",
    "\n",
    "after doing the other problems I found that most topics are easy to understand but binary and assigning variables different values is kind of difficult. the binary is difficult because I sometimes just make math errors, and the other just requires some harder thinking to avoid making some simple error. "
   ]
  }
 ],
 "metadata": {
  "kernelspec": {
   "display_name": "Python 3.8.10 64-bit",
   "language": "python",
   "name": "python3"
  },
  "language_info": {
   "name": "python",
   "version": "3.8.10"
  },
  "orig_nbformat": 4,
  "vscode": {
   "interpreter": {
    "hash": "916dbcbb3f70747c44a77c7bcd40155683ae19c65e1c03b4aa3499c5328201f1"
   }
  }
 },
 "nbformat": 4,
 "nbformat_minor": 2
}
