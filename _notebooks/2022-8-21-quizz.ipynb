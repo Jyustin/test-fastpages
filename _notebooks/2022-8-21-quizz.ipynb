{
 "cells": [
  {
   "cell_type": "markdown",
   "metadata": {},
   "source": [
    "# quizz project\n",
    "> quizz project for class\n",
    "\n",
    "- toc: true \n",
    "- badges: true\n",
    "- comments: true\n",
    "- categories: [jupyter]"
   ]
  },
  {
   "cell_type": "markdown",
   "metadata": {},
   "source": [
    "this is my online quiz coded in python"
   ]
  },
  {
   "cell_type": "code",
   "execution_count": 15,
   "metadata": {},
   "outputs": [
    {
     "name": "stdout",
     "output_type": "stream",
     "text": [
      "question 1: Name the Python output command mentioned in this lesson\n",
      "correct!\n",
      "question 2: If you see many lines of code in order, what would College Board call it?\n",
      "correct!\n",
      "question 3: Describe a keyword used in Python to define a function?\n",
      "correct!\n",
      "you got 3 !\n"
     ]
    }
   ],
   "source": [
    "correct = 0\n",
    "int(correct)\n",
    "\n",
    "\n",
    "print(\"question 1: Name the Python output command mentioned in this lesson\")\n",
    "answer_1 = input()\n",
    "if answer_1 == \"print\":\n",
    "    print(\"correct!\")\n",
    "    correct = correct + 1\n",
    "else:\n",
    "    print(\"wrong!\")\n",
    "\n",
    "print(\"question 2: If you see many lines of code in order, what would College Board call it?\")\n",
    "answer_2 = input()\n",
    "if answer_2 == \"sequence\":\n",
    "    print(\"correct!\")\n",
    "    correct = correct + 1\n",
    "else:\n",
    "    print(\"wrong!\")\n",
    "\n",
    "print(\"question 3: Describe a keyword used in Python to define a function?\")\n",
    "answer_3 = input()\n",
    "if answer_3 == \"def\":\n",
    "    print(\"correct!\")\n",
    "    correct = correct + 1\n",
    "else:\n",
    "    print(\"wrong!\")\n",
    "\n",
    "print(\"you got\", correct, \"correct!\")\n"
   ]
  }
 ],
 "metadata": {
  "kernelspec": {
   "display_name": "Python 3.8.10 64-bit",
   "language": "python",
   "name": "python3"
  },
  "language_info": {
   "codemirror_mode": {
    "name": "ipython",
    "version": 3
   },
   "file_extension": ".py",
   "mimetype": "text/x-python",
   "name": "python",
   "nbconvert_exporter": "python",
   "pygments_lexer": "ipython3",
   "version": "3.8.10"
  },
  "orig_nbformat": 4,
  "vscode": {
   "interpreter": {
    "hash": "916dbcbb3f70747c44a77c7bcd40155683ae19c65e1c03b4aa3499c5328201f1"
   }
  }
 },
 "nbformat": 4,
 "nbformat_minor": 2
}
