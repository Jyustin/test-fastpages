{
 "cells": [
  {
   "cell_type": "markdown",
   "metadata": {},
   "source": [
    "# quizz project\n",
    "> quizz project for class\n",
    "\n",
    "- toc: true \n",
    "- badges: true\n",
    "- comments: true\n",
    "- categories: [jupyter]"
   ]
  },
  {
   "cell_type": "markdown",
   "metadata": {},
   "source": [
    "this is my online quiz coded in python. Although it does not work on a jupyter notebook blog page, I can explain how it works. You simply just type in an input and the code will compare it to the preset correct value. If they match, the answer is considered correct. \n",
    "\n",
    "UPDATE 9/1/2022: Used lists to tell user which problems they got wrong at the end of the quiz, as well as problems right. problems are also stored in a dictionary. "
   ]
  },
  {
   "cell_type": "code",
   "execution_count": 9,
   "metadata": {},
   "outputs": [
    {
     "name": "stdout",
     "output_type": "stream",
     "text": [
      "question 1: Name the Python output command mentioned in this lesson\n",
      "print is correct!\n",
      "question 2: If you see many lines of code in order, what would College Board call it?\n",
      "def is wrong!\n",
      "question 3: Describe a keyword used in Python to define a function?\n",
      "def is correct!\n",
      "question 4: What command is used to include other functions that were previously developed?\n",
      "d is wrong!\n",
      "you got 2 correct!\n",
      "50.0 %\n",
      "these questions are wrong: 2, 4\n",
      "these questions are right: 1, 3\n"
     ]
    }
   ],
   "source": [
    "correct = 0 #this part used to keep track of correct answers and show how many correct and percentage at end of quiz\n",
    "int(correct)\n",
    "dict = {\n",
    "  \"1\": \"question 1: Name the Python output command mentioned in this lesson\",\n",
    "  \"2\": \"question 2: If you see many lines of code in order, what would College Board call it?\",\n",
    "  \"3\": \"question 3: Describe a keyword used in Python to define a function?\",\n",
    "  \"4\": \"question 4: What command is used to include other functions that were previously developed?\",\n",
    "}\n",
    "list = []\n",
    "crlist = []\n",
    "\n",
    "print(dict.get(\"1\"))\n",
    "ans = input()\n",
    "if ans == \"print\": #used to determine if answer was right or not\n",
    "    print(ans, \"is correct!\")\n",
    "    correct = correct + 1 #keep track of correct answers\n",
    "    crlist.append(\"1\")\n",
    "else:\n",
    "    print(ans, \"is wrong!\") \n",
    "    list.append(\"1\")\n",
    "\n",
    "\n",
    "print(dict.get(\"2\")) #basically code from top part, I don't rly know how to make it so I dont have to\n",
    "ans = input()\n",
    "if ans == \"sequence\":\n",
    "    print(ans,\"is correct!\")\n",
    "    correct = correct + 1\n",
    "    crlist.append(\"2\")\n",
    "\n",
    "else:\n",
    "    print(ans, \"is wrong!\")\n",
    "    list.append(\"2\")\n",
    "\n",
    "print(dict.get(\"3\"))\n",
    "ans = input()\n",
    "if ans == \"def\":\n",
    "    print(ans, \"is correct!\")\n",
    "    correct = correct + 1\n",
    "    crlist.append(\"3\")\n",
    "else:\n",
    "    print(ans, \"is wrong!\")\n",
    "    list.append(\"3\")\n",
    "\n",
    "\n",
    "print(dict.get(\"4\"))\n",
    "ans = input()\n",
    "if ans == \"import\":\n",
    "    print(ans, \"is correct!\")\n",
    "    correct = correct + 1\n",
    "    crlist.append(\"4\")\n",
    "\n",
    "else:\n",
    "    print(ans, \"is wrong!\")\n",
    "    list.append(\"4\")\n",
    "\n",
    "\n",
    "(percentage) = (correct/4)*100 #use to calculate percentage of correct\n",
    "int(percentage)\n",
    "print(\"you got\", correct, \"correct!\")\n",
    "print(percentage, \"%\")\n",
    "\n",
    "wrongs = \", \".join(list)\n",
    "rights = \", \".join(crlist)\n",
    "\n",
    "print(\"these questions are wrong:\", wrongs)\n",
    "print(\"these questions are right:\", rights)\n",
    "\n"
   ]
  }
 ],
 "metadata": {
  "kernelspec": {
   "display_name": "Python 3.8.10 64-bit",
   "language": "python",
   "name": "python3"
  },
  "language_info": {
   "codemirror_mode": {
    "name": "ipython",
    "version": 3
   },
   "file_extension": ".py",
   "mimetype": "text/x-python",
   "name": "python",
   "nbconvert_exporter": "python",
   "pygments_lexer": "ipython3",
   "version": "3.8.10"
  },
  "orig_nbformat": 4,
  "vscode": {
   "interpreter": {
    "hash": "916dbcbb3f70747c44a77c7bcd40155683ae19c65e1c03b4aa3499c5328201f1"
   }
  }
 },
 "nbformat": 4,
 "nbformat_minor": 2
}
