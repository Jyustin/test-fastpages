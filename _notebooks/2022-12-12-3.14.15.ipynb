{
 "cells": [
  {
   "attachments": {},
   "cell_type": "markdown",
   "metadata": {},
   "source": [
    "# 3.14 3.15 hacks and notes\n",
    "> for week 4\n",
    "categories: [python]\n",
    "tags: [python]\n",
    "- toc: true \n",
    "- badges: true\n",
    "- comments: true\n",
    "- categories: [3.14]"
   ]
  },
  {
   "attachments": {},
   "cell_type": "markdown",
   "metadata": {},
   "source": [
    "# notes\n",
    "\n",
    "libraries contain prewritten code/procedures that you can use for coding.\n",
    "\n",
    "HINT: libraries can simplify complex problems and using them can make a problem easier to solve\n",
    "\n",
    "APIs (application program interfaces) specify how procedures in libraries should behave and be utilized.\n",
    "\n",
    "Documentation is an explanation of the code\n",
    "\n",
    "HINT: look at Documentation for code if you don't understand something\n",
    "\n",
    "The APCSP EXAM REFRENCE SHEET could come in handy later. it is essentially a library provided by College Board.\n",
    "\n",
    "you may need expressions for generating random values.\n",
    "\n",
    "EX: random number generator, dice roll, etc.\n",
    "\n",
    "RANDOM(a, b) generates and returns a random integer from a to b, inclusive. Each result is equally likely to occur.\n",
    "\n",
    "randint(start, stop) generates random integer between start and stop.\n",
    "\n",
    "randrange(start, stop, step) generates random number where start is min value, stop is max value, and step is the multiples the rng generates. \n",
    "\n",
    "If start = 0 and step = 5 all the values that can by outputed are 0 and multiples of 5\n",
    "\n",
    "\n"
   ]
  },
  {
   "cell_type": "code",
   "execution_count": null,
   "metadata": {},
   "outputs": [],
   "source": []
  }
 ],
 "metadata": {
  "language_info": {
   "name": "python"
  },
  "orig_nbformat": 4
 },
 "nbformat": 4,
 "nbformat_minor": 2
}
