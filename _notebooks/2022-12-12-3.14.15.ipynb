{
 "cells": [
  {
   "attachments": {},
   "cell_type": "markdown",
   "metadata": {},
   "source": [
    "# 3.14 3.15 hacks and notes\n",
    "> for week 4\n",
    "categories: [python]\n",
    "tags: [python]\n",
    "- toc: true \n",
    "- badges: true\n",
    "- comments: true\n",
    "- categories: [3.14]"
   ]
  },
  {
   "attachments": {},
   "cell_type": "markdown",
   "metadata": {},
   "source": [
    "# notes\n",
    "\n",
    "libraries contain prewritten code/procedures that you can use for coding.\n",
    "\n",
    "HINT: libraries can simplify complex problems and using them can make a problem easier to solve\n",
    "\n",
    "APIs (application program interfaces) specify how procedures in libraries should behave and be utilized.\n",
    "\n",
    "Documentation is an explanation of the code\n",
    "\n",
    "HINT: look at Documentation for code if you don't understand something\n",
    "\n",
    "The APCSP EXAM REFRENCE SHEET could come in handy later. it is essentially a library provided by College Board.\n",
    "\n",
    "you may need expressions for generating random values.\n",
    "\n",
    "EX: random number generator, dice roll, etc.\n",
    "\n",
    "RANDOM(a, b) generates and returns a random integer from a to b, inclusive. Each result is equally likely to occur.\n",
    "\n",
    "randint(start, stop) generates random integer between start and stop.\n",
    "\n",
    "randrange(start, stop, step) generates random number where start is min value, stop is max value, and step is the multiples the rng generates. \n",
    "\n",
    "If start = 0 and step = 5 all the values that can by outputed are 0 and multiples of 5\n",
    "\n",
    "\n",
    "# HACKS\n",
    "\n",
    "### reflection\n",
    "\n",
    "libraries and APIs are essentially prewritten code that can help you on complex problems. These libraries and APIs can also be used to not only write code easier and not develop everything on projects but also be the entire foundation of the code itself. I also learned to use documentation to understand code segments and libraries/APIS. Documentation should be looked at before using a library or tinkering with some code, as it gives you an understanding of the code you are working with and how you could work with it. lastly, understand that random expressions and the use of random algorithms will be tested on the AP EXAM. It is especially important to understand the random syntax for pseudocode on the AP Exam because there will definetly be problems on the exam with different random expressions. \n",
    "\n",
    "# multiple choice\n",
    "\n",
    "Q 1: What does the random(a,b) function generate?\n",
    "\n",
    "A. A random integer from a to be exclusive\n",
    "\n",
    "B. A random integer from a to b inclusive.\n",
    "\n",
    "C. A random word from variable a to variable b exclusive.\n",
    "\n",
    "D. A random word from variable a to variable b inclusive.\n",
    "\n",
    "ANS: B. this is the definition given earlier and makes most sense\n",
    "\n",
    "Q 2: What is x, y, and z in random.randrange(x, y, z)?\n",
    "\n",
    "A. x = start, y = stop, z = step\n",
    "\n",
    "B. x = start, y = step, z = stop\n",
    "\n",
    "C. x = stop, y = start, z = step\n",
    "\n",
    "D. x = step, y = start, z = stop\n",
    "\n",
    "ANS: A, because x and y determine min and max values, and z is supposed to determine the steps the random values take\n",
    "\n",
    "Q 3: Which of the following is NOT part of the random library?\n",
    "\n",
    "A. random.item\n",
    "\n",
    "B. random.random\n",
    "\n",
    "C. random.shuffle\n",
    "\n",
    "D. random.randint\n",
    "\n",
    "ANS: A because random.item sounds like it is just random.choice, which does exists. it is logical to believe that random.item can't exist because a similar existing random function already exists that could probably do what that intended to do.\n",
    "\n",
    "Q 4: Write a thorough documentation of the following code:"
   ]
  },
  {
   "cell_type": "code",
   "execution_count": 6,
   "metadata": {},
   "outputs": [
    {
     "name": "stdout",
     "output_type": "stream",
     "text": [
      " blue is going to buy the meal today!\n"
     ]
    }
   ],
   "source": [
    "import random # import random library\n",
    "\n",
    "names_string = input(\"Give me everybody's names, seperated by a comma.\") # takes user input\n",
    "names = names_string.split(\",\") # splits names_string into list. each item in list is name separated by commas\n",
    "\n",
    "num_items = len(names) # number of names\n",
    "\n",
    "random_choice = random.randint(0, num_items - 1) # picks random name, uses num_items to pick random item from the list\n",
    "\n",
    "person_who_will_pay = names[random_choice] # determine person who is paying\n",
    "\n",
    "print(f\"{person_who_will_pay} is going to buy the meal today!\") # prints who will pay"
   ]
  },
  {
   "attachments": {},
   "cell_type": "markdown",
   "metadata": {},
   "source": [
    "(4) Coding Challenges!\n",
    "\n",
    "REQUIRED: Create programs in python to complete the two task\n",
    "\n",
    "1: Create a program to pick five random names from a list of at least 15 names"
   ]
  },
  {
   "cell_type": "code",
   "execution_count": 40,
   "metadata": {},
   "outputs": [
    {
     "name": "stdout",
     "output_type": "stream",
     "text": [
      "blue\n",
      "four\n",
      "five\n",
      "jack\n",
      "eric\n"
     ]
    }
   ],
   "source": [
    "import random\n",
    "\n",
    "names = [\"red\", \"joe\", \"joeseph\", \"john\", \"jamie\", \"jack\", \"joselyn\", \"justin\", \"blue\", \"eric\", \"zack\", \"harry\", \"lamb\", \"four\", \"five\"]\n",
    "# above is ls of names\n",
    "i = 0\n",
    "\n",
    "while i != 5: # repeat 5 times\n",
    "    rand_names = random.choice(names) # picks random name\n",
    "    i = i + 1 # needed for while loop\n",
    "    print(rand_names) # prints random name\n",
    "\n"
   ]
  },
  {
   "attachments": {},
   "cell_type": "markdown",
   "metadata": {},
   "source": [
    "2: Create a program to simulate a dice game where each player rolls two fair dice (6 sides); the player with the greater sum wins"
   ]
  },
  {
   "cell_type": "code",
   "execution_count": 38,
   "metadata": {},
   "outputs": [
    {
     "name": "stdout",
     "output_type": "stream",
     "text": [
      "player 1 score:  4\n",
      "player 2 score:  12\n",
      "player 2 wins!\n"
     ]
    }
   ],
   "source": [
    "import random\n",
    "\n",
    "player1 = 0 # initial player's score\n",
    "player2 = 0\n",
    "\n",
    "i = 0\n",
    "while i != 2: # while loop rolls the \"dice\"\n",
    "    x = random.randint(1, 6)\n",
    "    y = random.randint(1, 6) # both of these are the die rolls\n",
    "    \n",
    "    player1 = player1 + x # adds die roll to the player score\n",
    "    player2 = player2 + y\n",
    "    \n",
    "    i = i + 1 # repeat 2 times\n",
    "\n",
    "print(\"player 1 score: \", player1)\n",
    "#these 2 print out scores\n",
    "print(\"player 2 score: \", player2) \n",
    "\n",
    "if player1 > player2: # determine who won\n",
    "    print(\"player 1 wins!\")\n",
    "else:\n",
    "    print(\"player 2 wins!\")\n"
   ]
  },
  {
   "attachments": {},
   "cell_type": "markdown",
   "metadata": {},
   "source": [
    "# extra credit attempt"
   ]
  },
  {
   "cell_type": "code",
   "execution_count": 42,
   "metadata": {},
   "outputs": [
    {
     "name": "stdout",
     "output_type": "stream",
     "text": [
      "['x', 'y', 'x', 'y', 's']\n",
      "['x', 'x', 'y', 'x', 'y']\n",
      "['x', 'x', 'y', 'y', 'x']\n",
      "['y', 'y', 'y', 'x', 'x']\n",
      "['y', 'x', 'y', 'x', 'e']\n",
      "the bot faces: south\n"
     ]
    }
   ],
   "source": [
    "import random\n",
    "\n",
    "row1 = [0, 0, 0, 0, 0]\n",
    "row2 = [0, 0, 0, 0, 0]\n",
    "row3 = [0, 0, 0, 0, 0]  # building the board\n",
    "row4 = [0, 0, 0, 0, 0] \n",
    "row5 = [0, 0, 0, 0, 0]\n",
    "\n",
    "element = [ \"x\", \"y\"] # board elements. x is movable space, y is wall\n",
    "start = [\"s\"] # start space\n",
    "end = [\"e\"] # end space\n",
    "bot_face = [\"north\", \"east\", \"south\", \"west\"]\n",
    "\n",
    "i = 0\n",
    "a = 0\n",
    "y = random.choice(bot_face)\n",
    "\n",
    "while i != 5:\n",
    "    row1[a] = random.choice(element)\n",
    "    row2[a] = random.choice(element)\n",
    "    row3[a] = random.choice(element) # randomize board \n",
    "    row4[a] = random.choice(element)\n",
    "    row5[a] = random.choice(element)\n",
    " \n",
    "\n",
    "    a = a + 1\n",
    "    i = i + 1\n",
    "\n",
    "r = random.randint(0, 5)\n",
    "row1[r] = random.choice(start) # apply start and end\n",
    "row5[r] = random.choice(end)\n",
    "\n",
    "print(row1) # print out the board\n",
    "print(row2)\n",
    "print(row3)\n",
    "print(row4)\n",
    "print(row5)\n",
    "print(\"the bot faces:\", y)"
   ]
  },
  {
   "attachments": {},
   "cell_type": "markdown",
   "metadata": {},
   "source": [
    "although this isn't very functional, you could at least build a board with this. I didn't build a board because it would be very time consuming for me, but you\n",
    "could technically look at the graph created to determine the layout of the board to some extent."
   ]
  }
 ],
 "metadata": {
  "kernelspec": {
   "display_name": "Python 3",
   "language": "python",
   "name": "python3"
  },
  "language_info": {
   "codemirror_mode": {
    "name": "ipython",
    "version": 3
   },
   "file_extension": ".py",
   "mimetype": "text/x-python",
   "name": "python",
   "nbconvert_exporter": "python",
   "pygments_lexer": "ipython3",
   "version": "3.8.10"
  },
  "orig_nbformat": 4,
  "vscode": {
   "interpreter": {
    "hash": "916dbcbb3f70747c44a77c7bcd40155683ae19c65e1c03b4aa3499c5328201f1"
   }
  }
 },
 "nbformat": 4,
 "nbformat_minor": 2
}
