{
 "cells": [
  {
   "attachments": {},
   "cell_type": "markdown",
   "metadata": {},
   "source": [
    "#  Data Structures thing hacks\n",
    "> Observe\n",
    "- toc: true\n",
    "- categories: []\n",
    "- type: ap"
   ]
  },
  {
   "attachments": {},
   "cell_type": "markdown",
   "metadata": {},
   "source": [
    "> Why do you think a programmer should care about space and time complexity?\n",
    "\n",
    "### ANS\n",
    "\n",
    "time and space complexity are important  when developing programs, as you don't want your programs to consume too much memory, or take too long to complete. Basically, \n",
    "managing complexity and time of programs is essential when developing programs for user usage. You don't want your programs to consume too much of a users memory or take too long basically.\n",
    "\n",
    "> Do you think this is a time complexity or space complexity or both problem? \n",
    "\n",
    "### ANS\n",
    "\n",
    "when comparing time of the algorithm when basewidth is 5000, the algorithm takes 1.4 seconds to complete. \n",
    "\n",
    "With a basewidth of 40000, the Kernel crashes after 30 seconds or so of the algorithm running. \n",
    "\n",
    "With a basewidth of 10000, the algorithm takes 5.6 seconds to complete.\n",
    "\n",
    "basewidth of 625, time is only 0.3 seconds to complete.\n",
    "\n",
    "This is time problem, as we can see the time of the algorithm becomes longer as the basewidth increases, so reducing steps in the problem to reduce time of the algorithm is something that could potentially be a problem to fix.\n",
    "\n",
    "This could also be a space complexity, as we can see that the algorithm cannot finish when the basewidth is too large. Reducing complexity or reducing steps in the algorithm would need to be done to solve the problem, as it seems like the program does not have the capabilty to process higher base widths. \n",
    "\n",
    "\n",
    "Linear time because the program must perform another step when the base width increases, thus linearily increasing timeoftfhefucntion.   \n",
    "\n"
   ]
  }
 ],
 "metadata": {
  "kernelspec": {
   "display_name": "base",
   "language": "python",
   "name": "python3"
  },
  "language_info": {
   "name": "python",
   "version": "3.9.12"
  },
  "orig_nbformat": 4
 },
 "nbformat": 4,
 "nbformat_minor": 2
}
