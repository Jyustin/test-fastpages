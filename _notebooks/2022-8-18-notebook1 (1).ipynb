{
 "cells": [
  {
   "cell_type": "markdown",
   "id": "85f83be3",
   "metadata": {},
   "source": [
    "# \"jupyter notebook\"\n",
    "> \"Awesome summary\"\n",
    "\n",
    "- toc:true- branch: master\n",
    "- badges: true\n",
    "- comments: true\n",
    "- author: Hamel Husain & Jeremy Howard\n",
    "- categories: [fastpages, jupyter]"
   ]
  },
  {
   "cell_type": "markdown",
   "id": "c0f07dab",
   "metadata": {},
   "source": [
    "###jupyter notebooks test blog"
   ]
  },
  {
   "cell_type": "code",
   "execution_count": 3,
   "id": "ae0006b4",
   "metadata": {},
   "outputs": [
    {
     "name": "stdout",
     "output_type": "stream",
     "text": [
      "hello world\n"
     ]
    }
   ],
   "source": [
    "print(\"hello world\")"
   ]
  }
 ],
 "metadata": {
  "kernelspec": {
   "display_name": "Python 3 (ipykernel)",
   "language": "python",
   "name": "python3"
  },
  "language_info": {
   "codemirror_mode": {
    "name": "ipython",
    "version": 3
   },
   "file_extension": ".py",
   "mimetype": "text/x-python",
   "name": "python",
   "nbconvert_exporter": "python",
   "pygments_lexer": "ipython3",
   "version": "3.9.12"
  }
 },
 "nbformat": 4,
 "nbformat_minor": 5
}
